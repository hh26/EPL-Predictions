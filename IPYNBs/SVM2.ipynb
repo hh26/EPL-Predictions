{
 "cells": [
  {
   "cell_type": "code",
   "execution_count": 1,
   "metadata": {
    "id": "3ybfuaumS52W"
   },
   "outputs": [],
   "source": [
    "import pandas as pd\n",
    "import matplotlib.pyplot as plt\n",
    "import numpy as np\n",
    "import seaborn as sns\n",
    "from datetime import datetime as dt\n",
    "import itertools\n",
    "from sklearn import preprocessing\n",
    "from sklearn.preprocessing import MinMaxScaler"
   ]
  },
  {
   "cell_type": "code",
   "execution_count": 2,
   "metadata": {
    "id": "AQIkKwVTSWeP"
   },
   "outputs": [],
   "source": [
    "folder=\"https://raw.githubusercontent.com/hh26/EPL-Predictions/master/CSV/\"\n",
    "\n",
    "x_train = pd.read_csv(folder+'XTRAIN2.csv')\n",
    "y_train = pd.read_csv(folder+'YTRAIN2.csv')\n",
    "x_test = pd.read_csv(folder+'XTEST2.csv')\n",
    "y_test = pd.read_csv(folder+'YTEST2.csv')\n",
    "y_train=y_train.values.ravel()\n",
    "y_test=y_test.values.ravel()"
   ]
  },
  {
   "cell_type": "code",
   "execution_count": 3,
   "metadata": {
    "id": "PxOAnqRLSzWv"
   },
   "outputs": [],
   "source": [
    "from sklearn.svm import SVC\n",
    "from sklearn.model_selection import GridSearchCV\n",
    "from sklearn import metrics\n",
    "from sklearn.metrics import precision_recall_fscore_support as score\n",
    "from sklearn.metrics import confusion_matrix\n",
    "from sklearn.metrics import classification_report\n",
    "from sklearn.model_selection import cross_val_score\n",
    "from matplotlib import pyplot"
   ]
  },
  {
   "cell_type": "markdown",
   "metadata": {
    "id": "b7uReWuUsVLm"
   },
   "source": [
    "# Linear Kernel"
   ]
  },
  {
   "cell_type": "markdown",
   "metadata": {
    "id": "FYLUtjMSseWy"
   },
   "source": [
    "## Class A features alone:"
   ]
  },
  {
   "cell_type": "code",
   "execution_count": 61,
   "metadata": {
    "id": "AFOMuE5WsNL9"
   },
   "outputs": [],
   "source": [
    "classAfeatures=['HForm', 'AForm', 'HSt', 'ASt', 'HSTKPP', 'ASTKPP', 'HGKPP', 'AGKPP',\n",
    "       'HCKPP', 'ACKPP', 'HAttack', 'AAttack', 'HMidField', 'AMidField',\n",
    "       'HDefence', 'ADefence', 'HOverall', 'AOverall', 'HTGD', 'ATGD',\n",
    "       'HStWeighted', 'AStWeighted']"
   ]
  },
  {
   "cell_type": "code",
   "execution_count": 78,
   "metadata": {
    "id": "sCr7vphXsvzG"
   },
   "outputs": [],
   "source": [
    "x_train_a=x_train[classAfeatures]\n",
    "x_test_a=x_test[classAfeatures]"
   ]
  },
  {
   "cell_type": "code",
   "execution_count": 63,
   "metadata": {
    "colab": {
     "base_uri": "https://localhost:8080/",
     "height": 67
    },
    "id": "PLwQ3VDqsx2c",
    "outputId": "9f7fb2bd-ab9f-47d7-da61-d673be629604"
   },
   "outputs": [
    {
     "name": "stdout",
     "output_type": "stream",
     "text": [
      "Cross Validation Score for Class A features: 0.5331779331779332\n",
      "Validation Accuracy: 0.5394474508686984\n",
      "Testing Accuracy: 0.578125\n"
     ]
    }
   ],
   "source": [
    "SVML=SVC(kernel='linear')\n",
    "crossvalscores=[]\n",
    "cvscore=cross_val_score(SVML,x_train_a,y_train,cv=10)\n",
    "crossvalscores.append(np.mean(cvscore))\n",
    "print(\"Cross Validation Score for Class A features: \"+ str(np.mean(crossvalscores)))\n",
    "\n",
    "SVML.fit(x_train_a,y_train)\n",
    "print(\"Validation Accuracy: \"+ str(SVML.score(x_train_a,y_train)))\n",
    "print(\"Testing Accuracy: \"+ str(SVML.score(x_test_a,y_test)))"
   ]
  },
  {
   "cell_type": "code",
   "execution_count": null,
   "metadata": {
    "colab": {
     "base_uri": "https://localhost:8080/",
     "height": 336
    },
    "id": "-bmGR49ETIqS",
    "outputId": "465c469b-604b-488f-94e8-4562668077ea",
    "scrolled": true
   },
   "outputs": [
    {
     "name": "stdout",
     "output_type": "stream",
     "text": [
      "Fitting 5 folds for each of 70 candidates, totalling 350 fits\n"
     ]
    },
    {
     "name": "stderr",
     "output_type": "stream",
     "text": [
      "[Parallel(n_jobs=-1)]: Using backend LokyBackend with 2 concurrent workers.\n",
      "[Parallel(n_jobs=-1)]: Done  14 tasks      | elapsed:  2.8min\n",
      "[Parallel(n_jobs=-1)]: Done  68 tasks      | elapsed: 16.1min\n",
      "[Parallel(n_jobs=-1)]: Done 158 tasks      | elapsed: 49.5min\n",
      "[Parallel(n_jobs=-1)]: Done 284 tasks      | elapsed: 119.0min\n",
      "[Parallel(n_jobs=-1)]: Done 350 out of 350 | elapsed: 161.3min finished\n"
     ]
    },
    {
     "data": {
      "text/plain": [
       "GridSearchCV(cv=5, error_score=nan,\n",
       "             estimator=SVC(C=1.0, break_ties=False, cache_size=200,\n",
       "                           class_weight=None, coef0=0.0,\n",
       "                           decision_function_shape='ovr', degree=3,\n",
       "                           gamma='scale', kernel='linear', max_iter=-1,\n",
       "                           probability=False, random_state=None, shrinking=True,\n",
       "                           tol=0.001, verbose=False),\n",
       "             iid='deprecated', n_jobs=-1,\n",
       "             param_grid={'C': [1, 2, 3, 4, 5, 6, 7, 8, 9, 10],\n",
       "                         'gamma': [0.01, 0.02, 0.03, 0.04, 0.05, 0.1, 0.2]},\n",
       "             pre_dispatch='2*n_jobs', refit=True, return_train_score=True,\n",
       "             scoring='accuracy', verbose=5)"
      ]
     },
     "execution_count": 16,
     "metadata": {
      "tags": []
     },
     "output_type": "execute_result"
    }
   ],
   "source": [
    "#params={'C':[1,2,3,4,5,6,7,8,9,10],'gamma':[0.01, 0.02, 0.03, 0.04, 0.05, 0.10, 0.20]}\n",
    "#grid=GridSearchCV(estimator=SVML,param_grid=params,scoring='accuracy',return_train_score=True,cv=5,verbose=5,n_jobs=-1)\n",
    "#grid.fit(x_train_a,y_train)"
   ]
  },
  {
   "cell_type": "code",
   "execution_count": null,
   "metadata": {
    "colab": {
     "base_uri": "https://localhost:8080/",
     "height": 101
    },
    "id": "DQcfRy8hTUN8",
    "outputId": "c32db4df-81e7-476d-e657-6e5f7e5fc0a8"
   },
   "outputs": [
    {
     "name": "stdout",
     "output_type": "stream",
     "text": [
      "{'C': 1, 'gamma': 0.01}\n",
      "SVC(C=1, break_ties=False, cache_size=200, class_weight=None, coef0=0.0,\n",
      "    decision_function_shape='ovr', degree=3, gamma=0.01, kernel='linear',\n",
      "    max_iter=-1, probability=False, random_state=None, shrinking=True,\n",
      "    tol=0.001, verbose=False)\n"
     ]
    }
   ],
   "source": [
    "# print best parameter after tuning \n",
    "print(grid.best_params_) \n",
    "  \n",
    "# print how our model looks after hyper-parameter tuning \n",
    "print(grid.best_estimator_) "
   ]
  },
  {
   "cell_type": "markdown",
   "metadata": {
    "id": "Glrv1MNUGpMc"
   },
   "source": [
    "{'C': 1, 'gamma': 0.01}\n",
    "SVC(C=1, break_ties=False, cache_size=200, class_weight=None, coef0=0.0,\n",
    "    decision_function_shape='ovr', degree=3, gamma=0.01, kernel='linear',\n",
    "    max_iter=-1, probability=False, random_state=None, shrinking=True,\n",
    "    tol=0.001, verbose=False)"
   ]
  },
  {
   "cell_type": "code",
   "execution_count": null,
   "metadata": {
    "colab": {
     "base_uri": "https://localhost:8080/",
     "height": 34
    },
    "id": "8A31pW6xHAIY",
    "outputId": "4271134f-db53-4eb7-ef5c-d30264396cb3"
   },
   "outputs": [
    {
     "data": {
      "text/plain": [
       "0.534034034034034"
      ]
     },
     "execution_count": 18,
     "metadata": {
      "tags": []
     },
     "output_type": "execute_result"
    }
   ],
   "source": [
    "grid.best_score_"
   ]
  },
  {
   "cell_type": "code",
   "execution_count": 74,
   "metadata": {},
   "outputs": [],
   "source": [
    "SVML=SVC(C=1, cache_size=200, class_weight='balanced', coef0=0.0,\n",
    "    decision_function_shape='ovr', degree=3, gamma=0.01, kernel='linear',\n",
    "    max_iter=-1, probability=True, random_state=None, shrinking=True,\n",
    "    tol=0.001, verbose=False)"
   ]
  },
  {
   "cell_type": "code",
   "execution_count": 75,
   "metadata": {
    "colab": {
     "base_uri": "https://localhost:8080/",
     "height": 67
    },
    "id": "rv4TAf4wHVNl",
    "outputId": "17aced78-60ee-45ed-884e-c3c2e7d1e23f"
   },
   "outputs": [
    {
     "name": "stdout",
     "output_type": "stream",
     "text": [
      "Cross Validation Score for Class A features: 0.4830427674177674\n",
      "Validation Accuracy: 0.49387638849330673\n",
      "Testing Accuracy: 0.5546875\n"
     ]
    }
   ],
   "source": [
    "#SVML=grid.best_estimator_\n",
    "crossvalscores=[]\n",
    "cvscore=cross_val_score(SVML,x_train_a,y_train,cv=10)\n",
    "crossvalscores.append(np.mean(cvscore))\n",
    "print(\"Cross Validation Score for Class A features: \"+ str(np.mean(crossvalscores)))\n",
    "\n",
    "SVML.fit(x_train_a,y_train)\n",
    "print(\"Validation Accuracy: \"+ str(SVML.score(x_train_a,y_train)))\n",
    "print(\"Testing Accuracy: \"+ str(SVML.score(x_test_a,y_test)))"
   ]
  },
  {
   "cell_type": "markdown",
   "metadata": {
    "id": "6nxvKQQxXKW8"
   },
   "source": [
    "RFE"
   ]
  },
  {
   "cell_type": "code",
   "execution_count": 79,
   "metadata": {
    "id": "xjG6crStJ2ba"
   },
   "outputs": [],
   "source": [
    "from sklearn.feature_selection import RFE\n",
    "rfe=RFE(SVML,n_features_to_select=1,step=1)\n",
    "rfe.fit(x_train_a,y_train)\n",
    "Ranks=rfe.ranking_"
   ]
  },
  {
   "cell_type": "code",
   "execution_count": 80,
   "metadata": {
    "colab": {
     "base_uri": "https://localhost:8080/",
     "height": 151
    },
    "id": "PHVB6TxqK8Hm",
    "outputId": "90b6221b-c860-44aa-ee04-287df8b43b5c"
   },
   "outputs": [
    {
     "data": {
      "text/plain": [
       "['ASTKPP',\n",
       " 'HAttack',\n",
       " 'AAttack',\n",
       " 'AMidField',\n",
       " 'HDefence',\n",
       " 'ADefence',\n",
       " 'HTGD',\n",
       " 'ATGD']"
      ]
     },
     "execution_count": 80,
     "metadata": {},
     "output_type": "execute_result"
    }
   ],
   "source": [
    "FeatureRanks={}\n",
    "for i in range(0,len(classAfeatures)):\n",
    "    FeatureRanks[classAfeatures[i]]=Ranks[i]\n",
    "FeatureRanks\n",
    "delfeatures=[]\n",
    "for key,value in FeatureRanks.items():\n",
    "    if(value>=15):\n",
    "        delfeatures.append(key)\n",
    "    \n",
    "delfeatures"
   ]
  },
  {
   "cell_type": "code",
   "execution_count": 81,
   "metadata": {
    "colab": {
     "base_uri": "https://localhost:8080/",
     "height": 101
    },
    "id": "i1mZihYFNxDv",
    "outputId": "d76b0024-1559-4d3b-ba2a-e72dd5a4ea07"
   },
   "outputs": [
    {
     "name": "stderr",
     "output_type": "stream",
     "text": [
      "D:\\Softwares\\Anaconda\\lib\\site-packages\\pandas\\core\\frame.py:4170: SettingWithCopyWarning: \n",
      "A value is trying to be set on a copy of a slice from a DataFrame\n",
      "\n",
      "See the caveats in the documentation: https://pandas.pydata.org/pandas-docs/stable/user_guide/indexing.html#returning-a-view-versus-a-copy\n",
      "  errors=errors,\n"
     ]
    }
   ],
   "source": [
    "x_train_a.drop(delfeatures, axis = 1, inplace = True)\n",
    "x_test_a.drop(delfeatures, axis = 1, inplace = True)"
   ]
  },
  {
   "cell_type": "code",
   "execution_count": null,
   "metadata": {
    "colab": {
     "base_uri": "https://localhost:8080/",
     "height": 67
    },
    "id": "AeaTqcsOPyrV",
    "outputId": "109380c2-19e7-4682-8474-746aff80b713"
   },
   "outputs": [],
   "source": [
    "#SVML=grid.best_estimator_\n",
    "crossvalscores=[]\n",
    "cvscore=cross_val_score(SVML,x_train_a,y_train,cv=10)\n",
    "crossvalscores.append(np.mean(cvscore))\n",
    "print(\"Cross Validation Score for Class A features: \"+ str(np.mean(crossvalscores)))\n",
    "\n",
    "SVML.fit(x_train_a,y_train)\n",
    "print(\"Validation Accuracy: \"+ str(SVML.score(x_train_a,y_train)))\n",
    "print(\"Testing Accuracy: \"+ str(SVML.score(x_test_a,y_test)))"
   ]
  },
  {
   "cell_type": "code",
   "execution_count": 82,
   "metadata": {
    "colab": {
     "base_uri": "https://localhost:8080/",
     "height": 67
    },
    "id": "6YM82zK2QN1X",
    "outputId": "ff6f5600-a433-477d-dae7-116374d1254c"
   },
   "outputs": [
    {
     "name": "stdout",
     "output_type": "stream",
     "text": [
      "[[182  61  65]\n",
      " [ 22 115  37]\n",
      " [ 56  44  58]]\n"
     ]
    },
    {
     "name": "stderr",
     "output_type": "stream",
     "text": [
      "D:\\Softwares\\Anaconda\\lib\\site-packages\\sklearn\\utils\\validation.py:70: FutureWarning: Pass labels=['H', 'A', 'D'] as keyword args. From version 0.25 passing these as positional arguments will result in an error\n",
      "  FutureWarning)\n"
     ]
    }
   ],
   "source": [
    "y_pred=SVML.predict(x_test_a)\n",
    "labels=['H','A','D']\n",
    "\n",
    "ConfusionMatrix= confusion_matrix(y_test,y_pred,labels)\n",
    "print(ConfusionMatrix)"
   ]
  },
  {
   "cell_type": "code",
   "execution_count": 83,
   "metadata": {
    "colab": {
     "base_uri": "https://localhost:8080/",
     "height": 238
    },
    "id": "uNFGn-YlQOFe",
    "outputId": "d3585ce0-e7e9-4945-e56e-a465621d0b74",
    "scrolled": true
   },
   "outputs": [
    {
     "name": "stdout",
     "output_type": "stream",
     "text": [
      "              precision    recall  f1-score   support\n",
      "\n",
      "           H       0.70      0.59      0.64       308\n",
      "           A       0.52      0.66      0.58       174\n",
      "           D       0.36      0.37      0.36       158\n",
      "\n",
      "    accuracy                           0.55       640\n",
      "   macro avg       0.53      0.54      0.53       640\n",
      "weighted avg       0.57      0.55      0.56       640\n",
      "\n"
     ]
    }
   ],
   "source": [
    "print(classification_report(y_test,y_pred,labels))"
   ]
  },
  {
   "cell_type": "markdown",
   "metadata": {},
   "source": [
    "### RPS Score"
   ]
  },
  {
   "cell_type": "code",
   "execution_count": 84,
   "metadata": {
    "id": "aUWPb3cSQNmi"
   },
   "outputs": [
    {
     "name": "stdout",
     "output_type": "stream",
     "text": [
      "0.1831770933111243\n"
     ]
    }
   ],
   "source": [
    "prob_pred = SVML.predict_proba(x_test_a)\n",
    "\n",
    "def RPS(p, e, r):\n",
    "    m = dict(zip(np.unique(y_pred), [0, 1, 2]))\n",
    "    n = len(p)\n",
    "    rps = []\n",
    "    for x in range(n):\n",
    "        sum1=0\n",
    "\n",
    "        for i in range(0, r):\n",
    "            sum2=0\n",
    "            obs = [0]*r\n",
    "            obs[m[e[x]]] = 1\n",
    "\n",
    "            for j in range(0, i):\n",
    "                sum2 += p[x][j]-obs[j]\n",
    "\n",
    "            sum1 += sum2**2\n",
    "        rps.append(sum1/(r-1))\n",
    "\n",
    "    #print(rps)\n",
    "\n",
    "    #print('RPS:' + str(sum(rps)/n))\n",
    "    print(np.mean(rps))\n",
    "RPS(prob_pred, y_test, 3)"
   ]
  },
  {
   "cell_type": "code",
   "execution_count": 85,
   "metadata": {
    "id": "aiAnsUo0KrRi"
   },
   "outputs": [],
   "source": [
    "Actual=[]\n",
    "Home=Away=Draw=0\n",
    "for i in y_test:\n",
    "  if(i=='H'):\n",
    "    Home+=1;\n",
    "  elif(i=='A'):\n",
    "    Away+=1;\n",
    "  else:\n",
    "    Draw+=1;\n",
    "Actual.append(Home)\n",
    "Actual.append(Away)\n",
    "Actual.append(Draw)"
   ]
  },
  {
   "cell_type": "code",
   "execution_count": 86,
   "metadata": {
    "id": "EFXgQXdOLMfN"
   },
   "outputs": [],
   "source": [
    "Predicted=[]\n",
    "PHome=PAway=PDraw=0\n",
    "for i in y_pred:\n",
    "  if(i=='H'):\n",
    "    PHome+=1;\n",
    "  elif(i=='A'):\n",
    "    PAway+=1;\n",
    "  else:\n",
    "    PDraw+=1;\n",
    "Predicted.append(PHome)\n",
    "Predicted.append(PAway)\n",
    "Predicted.append(PDraw)"
   ]
  },
  {
   "cell_type": "markdown",
   "metadata": {
    "id": "ORdp3EW2SfXF"
   },
   "source": [
    "#### Plots\n"
   ]
  },
  {
   "cell_type": "code",
   "execution_count": 88,
   "metadata": {
    "colab": {
     "base_uri": "https://localhost:8080/",
     "height": 497
    },
    "id": "34eXmsaeJz7X",
    "outputId": "f30e3649-1160-46bf-eaa4-7ea5014fbf0e"
   },
   "outputs": [
    {
     "data": {
      "image/png": "[encoded data removed]",
      "text/plain": [
       "<Figure size 864x576 with 1 Axes>"
      ]
     },
     "metadata": {
      "needs_background": "light"
     },
     "output_type": "display_data"
    }
   ],
   "source": [
    "import numpy as np \n",
    "import matplotlib.pyplot as plt \n",
    "   \n",
    "# set width of bar \n",
    "barWidth = 0.25\n",
    "fig = plt.subplots(figsize =(12, 8)) \n",
    "      \n",
    "# Set position of bar on X axis \n",
    "br1 = np.arange(3) \n",
    "br2 = [x + barWidth for x in br1] \n",
    "   \n",
    "# Make the plot \n",
    "plt.bar(br1, Actual, color ='b', width = barWidth, \n",
    "        edgecolor ='grey', label ='Actual') \n",
    "plt.bar(br2, Predicted, color ='r', width = barWidth, \n",
    "        edgecolor ='grey', label ='Predicted') \n",
    "   \n",
    "# Adding Xticks  \n",
    "plt.xlabel('SVM Linear Class A features alone', fontweight ='bold') \n",
    "plt.ylabel('', fontweight ='bold') \n",
    "plt.xticks([r + barWidth/2 for r in range(len(Actual))], \n",
    "           ['Home Wins', 'Away Wins', 'Draw']) \n",
    "plt.legend(loc=\"upper right\")   \n",
    "plt.show()"
   ]
  },
  {
   "cell_type": "code",
   "execution_count": null,
   "metadata": {},
   "outputs": [],
   "source": []
  },
  {
   "cell_type": "markdown",
   "metadata": {
    "id": "Wg7achyjS3rf"
   },
   "source": [
    "## Class B features alone:"
   ]
  },
  {
   "cell_type": "code",
   "execution_count": 89,
   "metadata": {
    "id": "sCz_ZQawS3rg"
   },
   "outputs": [],
   "source": [
    "classBfeatures=['FormDifferential', 'StDifferential',\n",
    "       'STKPP', 'GKPP', 'CKPP', 'RelAttack', 'RelMidField', 'RelDefence',\n",
    "       'RelOverall', 'GDDifferential', 'StWeightedDifferential']"
   ]
  },
  {
   "cell_type": "code",
   "execution_count": 90,
   "metadata": {
    "id": "gHntMtcNS3rk"
   },
   "outputs": [],
   "source": [
    "x_train_b=x_train[classBfeatures]\n",
    "x_test_b=x_test[classBfeatures]"
   ]
  },
  {
   "cell_type": "code",
   "execution_count": 91,
   "metadata": {
    "colab": {
     "base_uri": "https://localhost:8080/",
     "height": 422
    },
    "id": "ToNHsVGzT_qZ",
    "outputId": "dcbb32db-c577-4342-8714-03b20469075d"
   },
   "outputs": [
    {
     "data": {
      "text/html": [
       "<div>\n",
       "<style scoped>\n",
       "    .dataframe tbody tr th:only-of-type {\n",
       "        vertical-align: middle;\n",
       "    }\n",
       "\n",
       "    .dataframe tbody tr th {\n",
       "        vertical-align: top;\n",
       "    }\n",
       "\n",
       "    .dataframe thead th {\n",
       "        text-align: right;\n",
       "    }\n",
       "</style>\n",
       "<table border=\"1\" class=\"dataframe\">\n",
       "  <thead>\n",
       "    <tr style=\"text-align: right;\">\n",
       "      <th></th>\n",
       "      <th>FormDifferential</th>\n",
       "      <th>StDifferential</th>\n",
       "      <th>STKPP</th>\n",
       "      <th>GKPP</th>\n",
       "      <th>CKPP</th>\n",
       "      <th>RelAttack</th>\n",
       "      <th>RelMidField</th>\n",
       "      <th>RelDefence</th>\n",
       "      <th>RelOverall</th>\n",
       "      <th>GDDifferential</th>\n",
       "      <th>StWeightedDifferential</th>\n",
       "    </tr>\n",
       "  </thead>\n",
       "  <tbody>\n",
       "    <tr>\n",
       "      <th>0</th>\n",
       "      <td>1.194542</td>\n",
       "      <td>0.333333</td>\n",
       "      <td>-1.333333</td>\n",
       "      <td>0.333333</td>\n",
       "      <td>-0.500000</td>\n",
       "      <td>3</td>\n",
       "      <td>6</td>\n",
       "      <td>-5</td>\n",
       "      <td>1</td>\n",
       "      <td>5</td>\n",
       "      <td>0.333333</td>\n",
       "    </tr>\n",
       "    <tr>\n",
       "      <th>1</th>\n",
       "      <td>2.608709</td>\n",
       "      <td>0.666667</td>\n",
       "      <td>3.666667</td>\n",
       "      <td>1.166667</td>\n",
       "      <td>-0.500000</td>\n",
       "      <td>3</td>\n",
       "      <td>13</td>\n",
       "      <td>8</td>\n",
       "      <td>9</td>\n",
       "      <td>14</td>\n",
       "      <td>0.650794</td>\n",
       "    </tr>\n",
       "    <tr>\n",
       "      <th>2</th>\n",
       "      <td>-0.303694</td>\n",
       "      <td>-0.333333</td>\n",
       "      <td>-2.166667</td>\n",
       "      <td>-0.500000</td>\n",
       "      <td>-0.166667</td>\n",
       "      <td>6</td>\n",
       "      <td>3</td>\n",
       "      <td>-2</td>\n",
       "      <td>2</td>\n",
       "      <td>-5</td>\n",
       "      <td>-0.126984</td>\n",
       "    </tr>\n",
       "    <tr>\n",
       "      <th>3</th>\n",
       "      <td>0.700445</td>\n",
       "      <td>0.388889</td>\n",
       "      <td>-1.833333</td>\n",
       "      <td>0.500000</td>\n",
       "      <td>1.000000</td>\n",
       "      <td>11</td>\n",
       "      <td>13</td>\n",
       "      <td>14</td>\n",
       "      <td>12</td>\n",
       "      <td>6</td>\n",
       "      <td>0.396825</td>\n",
       "    </tr>\n",
       "    <tr>\n",
       "      <th>4</th>\n",
       "      <td>0.529287</td>\n",
       "      <td>0.222222</td>\n",
       "      <td>0.500000</td>\n",
       "      <td>0.000000</td>\n",
       "      <td>-2.666667</td>\n",
       "      <td>10</td>\n",
       "      <td>1</td>\n",
       "      <td>2</td>\n",
       "      <td>4</td>\n",
       "      <td>6</td>\n",
       "      <td>0.079365</td>\n",
       "    </tr>\n",
       "    <tr>\n",
       "      <th>...</th>\n",
       "      <td>...</td>\n",
       "      <td>...</td>\n",
       "      <td>...</td>\n",
       "      <td>...</td>\n",
       "      <td>...</td>\n",
       "      <td>...</td>\n",
       "      <td>...</td>\n",
       "      <td>...</td>\n",
       "      <td>...</td>\n",
       "      <td>...</td>\n",
       "      <td>...</td>\n",
       "    </tr>\n",
       "    <tr>\n",
       "      <th>3506</th>\n",
       "      <td>-1.820235</td>\n",
       "      <td>-0.500000</td>\n",
       "      <td>-2.833333</td>\n",
       "      <td>-1.666667</td>\n",
       "      <td>-3.166667</td>\n",
       "      <td>0</td>\n",
       "      <td>2</td>\n",
       "      <td>2</td>\n",
       "      <td>0</td>\n",
       "      <td>-30</td>\n",
       "      <td>-0.571429</td>\n",
       "    </tr>\n",
       "    <tr>\n",
       "      <th>3507</th>\n",
       "      <td>0.811829</td>\n",
       "      <td>-0.055556</td>\n",
       "      <td>-0.833333</td>\n",
       "      <td>-0.666667</td>\n",
       "      <td>-1.000000</td>\n",
       "      <td>-7</td>\n",
       "      <td>-6</td>\n",
       "      <td>-5</td>\n",
       "      <td>-6</td>\n",
       "      <td>-40</td>\n",
       "      <td>0.158730</td>\n",
       "    </tr>\n",
       "    <tr>\n",
       "      <th>3508</th>\n",
       "      <td>-1.234401</td>\n",
       "      <td>-0.222222</td>\n",
       "      <td>0.833333</td>\n",
       "      <td>-0.333333</td>\n",
       "      <td>0.833333</td>\n",
       "      <td>0</td>\n",
       "      <td>0</td>\n",
       "      <td>0</td>\n",
       "      <td>0</td>\n",
       "      <td>4</td>\n",
       "      <td>-0.428571</td>\n",
       "    </tr>\n",
       "    <tr>\n",
       "      <th>3509</th>\n",
       "      <td>-0.605933</td>\n",
       "      <td>-0.500000</td>\n",
       "      <td>-3.500000</td>\n",
       "      <td>-1.500000</td>\n",
       "      <td>0.166667</td>\n",
       "      <td>-5</td>\n",
       "      <td>-6</td>\n",
       "      <td>-6</td>\n",
       "      <td>-4</td>\n",
       "      <td>-27</td>\n",
       "      <td>-0.365079</td>\n",
       "    </tr>\n",
       "    <tr>\n",
       "      <th>3510</th>\n",
       "      <td>0.987189</td>\n",
       "      <td>0.333333</td>\n",
       "      <td>0.833333</td>\n",
       "      <td>0.166667</td>\n",
       "      <td>1.333333</td>\n",
       "      <td>-3</td>\n",
       "      <td>6</td>\n",
       "      <td>5</td>\n",
       "      <td>8</td>\n",
       "      <td>32</td>\n",
       "      <td>0.349206</td>\n",
       "    </tr>\n",
       "  </tbody>\n",
       "</table>\n",
       "<p>3511 rows × 11 columns</p>\n",
       "</div>"
      ],
      "text/plain": [
       "      FormDifferential  StDifferential     STKPP      GKPP      CKPP  \\\n",
       "0             1.194542        0.333333 -1.333333  0.333333 -0.500000   \n",
       "1             2.608709        0.666667  3.666667  1.166667 -0.500000   \n",
       "2            -0.303694       -0.333333 -2.166667 -0.500000 -0.166667   \n",
       "3             0.700445        0.388889 -1.833333  0.500000  1.000000   \n",
       "4             0.529287        0.222222  0.500000  0.000000 -2.666667   \n",
       "...                ...             ...       ...       ...       ...   \n",
       "3506         -1.820235       -0.500000 -2.833333 -1.666667 -3.166667   \n",
       "3507          0.811829       -0.055556 -0.833333 -0.666667 -1.000000   \n",
       "3508         -1.234401       -0.222222  0.833333 -0.333333  0.833333   \n",
       "3509         -0.605933       -0.500000 -3.500000 -1.500000  0.166667   \n",
       "3510          0.987189        0.333333  0.833333  0.166667  1.333333   \n",
       "\n",
       "      RelAttack  RelMidField  RelDefence  RelOverall  GDDifferential  \\\n",
       "0             3            6          -5           1               5   \n",
       "1             3           13           8           9              14   \n",
       "2             6            3          -2           2              -5   \n",
       "3            11           13          14          12               6   \n",
       "4            10            1           2           4               6   \n",
       "...         ...          ...         ...         ...             ...   \n",
       "3506          0            2           2           0             -30   \n",
       "3507         -7           -6          -5          -6             -40   \n",
       "3508          0            0           0           0               4   \n",
       "3509         -5           -6          -6          -4             -27   \n",
       "3510         -3            6           5           8              32   \n",
       "\n",
       "      StWeightedDifferential  \n",
       "0                   0.333333  \n",
       "1                   0.650794  \n",
       "2                  -0.126984  \n",
       "3                   0.396825  \n",
       "4                   0.079365  \n",
       "...                      ...  \n",
       "3506               -0.571429  \n",
       "3507                0.158730  \n",
       "3508               -0.428571  \n",
       "3509               -0.365079  \n",
       "3510                0.349206  \n",
       "\n",
       "[3511 rows x 11 columns]"
      ]
     },
     "execution_count": 91,
     "metadata": {},
     "output_type": "execute_result"
    }
   ],
   "source": [
    "x_train_b"
   ]
  },
  {
   "cell_type": "code",
   "execution_count": 16,
   "metadata": {
    "colab": {
     "base_uri": "https://localhost:8080/"
    },
    "id": "v60JmkkbS3rm",
    "outputId": "d1817cb9-b1d1-4173-8c06-56cfb777047b"
   },
   "outputs": [
    {
     "name": "stdout",
     "output_type": "stream",
     "text": [
      "Cross Validation Score for Class B features alone: 0.49729425666925664\n",
      "Validation Accuracy: 0.5064084306465394\n",
      "Testing Accuracy: 0.5421875\n"
     ]
    }
   ],
   "source": [
    "SVML=SVC(kernel='linear', probability = True,gamma='scale',class_weight='balanced')\n",
    "crossvalscores=[]\n",
    "cvscore=cross_val_score(SVML,x_train_b,y_train,cv=10)\n",
    "crossvalscores.append(np.mean(cvscore))\n",
    "print(\"Cross Validation Score for Class B features alone: \"+ str(np.mean(crossvalscores)))\n",
    "\n",
    "SVML.fit(x_train_b,y_train)\n",
    "print(\"Validation Accuracy: \"+ str(SVML.score(x_train_b,y_train)))\n",
    "print(\"Testing Accuracy: \"+ str(SVML.score(x_test_b,y_test)))"
   ]
  },
  {
   "cell_type": "code",
   "execution_count": 8,
   "metadata": {
    "colab": {
     "base_uri": "https://localhost:8080/",
     "height": 336
    },
    "id": "04JtNQ6CS3rp",
    "outputId": "465c469b-604b-488f-94e8-4562668077ea"
   },
   "outputs": [
    {
     "name": "stdout",
     "output_type": "stream",
     "text": [
      "Fitting 5 folds for each of 70 candidates, totalling 350 fits\n"
     ]
    },
    {
     "name": "stderr",
     "output_type": "stream",
     "text": [
      "[Parallel(n_jobs=-1)]: Using backend LokyBackend with 8 concurrent workers.\n",
      "[Parallel(n_jobs=-1)]: Done   2 tasks      | elapsed:  1.1min\n",
      "[Parallel(n_jobs=-1)]: Done  56 tasks      | elapsed: 10.1min\n",
      "[Parallel(n_jobs=-1)]: Done 146 tasks      | elapsed: 49.5min\n",
      "[Parallel(n_jobs=-1)]: Done 272 tasks      | elapsed: 149.6min\n",
      "[Parallel(n_jobs=-1)]: Done 350 out of 350 | elapsed: 224.3min finished\n"
     ]
    },
    {
     "data": {
      "text/plain": [
       "GridSearchCV(cv=5,\n",
       "             estimator=SVC(class_weight='balanced', kernel='linear',\n",
       "                           probability=True),\n",
       "             n_jobs=-1,\n",
       "             param_grid={'C': [1, 2, 3, 4, 5, 6, 7, 8, 9, 10],\n",
       "                         'gamma': [0.01, 0.02, 0.03, 0.04, 0.05, 0.1, 0.2]},\n",
       "             return_train_score=True, scoring='accuracy', verbose=5)"
      ]
     },
     "execution_count": 8,
     "metadata": {},
     "output_type": "execute_result"
    }
   ],
   "source": [
    "SVML=SVC(kernel='linear', probability = True,class_weight='balanced')\n",
    "params={'C':[1,2,3,4,5,6,7,8,9,10],'gamma':[0.01, 0.02, 0.03, 0.04, 0.05, 0.10, 0.20]}\n",
    "grid=GridSearchCV(estimator=SVML,param_grid=params,scoring='accuracy',return_train_score=True,cv=5,verbose=5,n_jobs=-1)\n",
    "grid.fit(x_train_b,y_train)"
   ]
  },
  {
   "cell_type": "code",
   "execution_count": 9,
   "metadata": {
    "colab": {
     "base_uri": "https://localhost:8080/",
     "height": 101
    },
    "id": "Vk-YuCvaS3rs",
    "outputId": "c32db4df-81e7-476d-e657-6e5f7e5fc0a8"
   },
   "outputs": [
    {
     "name": "stdout",
     "output_type": "stream",
     "text": [
      "{'C': 1, 'gamma': 0.01}\n",
      "SVC(C=1, class_weight='balanced', gamma=0.01, kernel='linear', probability=True)\n"
     ]
    }
   ],
   "source": [
    "# print best parameter after tuning \n",
    "print(grid.best_params_) \n",
    "  \n",
    "# print how our model looks after hyper-parameter tuning \n",
    "print(grid.best_estimator_) "
   ]
  },
  {
   "cell_type": "markdown",
   "metadata": {},
   "source": [
    "SVC(C=1, cache_size=200, class_weight=None, coef0=0.0,\n",
    "    decision_function_shape='ovr', degree=3, gamma=0.01, kernel='rbf',\n",
    "    max_iter=-1, probability=True, random_state=None, shrinking=True, tol=0.001,\n",
    "    verbose=False)"
   ]
  },
  {
   "cell_type": "code",
   "execution_count": 29,
   "metadata": {
    "colab": {
     "base_uri": "https://localhost:8080/",
     "height": 34
    },
    "id": "643eIN4mS3ru",
    "outputId": "4271134f-db53-4eb7-ef5c-d30264396cb3"
   },
   "outputs": [
    {
     "data": {
      "text/plain": [
       "0.5272002278553118"
      ]
     },
     "execution_count": 29,
     "metadata": {},
     "output_type": "execute_result"
    }
   ],
   "source": [
    "grid.best_score_"
   ]
  },
  {
   "cell_type": "code",
   "execution_count": 92,
   "metadata": {
    "colab": {
     "base_uri": "https://localhost:8080/",
     "height": 67
    },
    "id": "5_27ZsSaS3rw",
    "outputId": "d559d815-e90d-4310-9c4f-e1918e14b5d8"
   },
   "outputs": [
    {
     "name": "stdout",
     "output_type": "stream",
     "text": [
      "Cross Validation Score for Class B features alone: 0.49729425666925664\n",
      "Validation Accuracy: 0.5064084306465394\n",
      "Testing Accuracy: 0.5421875\n"
     ]
    }
   ],
   "source": [
    "SVML=SVC(C=1, class_weight='balanced', gamma=0.01, kernel='linear', probability=True)\n",
    "\n",
    "crossvalscores=[]\n",
    "cvscore=cross_val_score(SVML,x_train_b,y_train,cv=10)\n",
    "crossvalscores.append(np.mean(cvscore))\n",
    "print(\"Cross Validation Score for Class B features alone: \"+ str(np.mean(crossvalscores)))\n",
    "\n",
    "SVML.fit(x_train_b,y_train)\n",
    "print(\"Validation Accuracy: \"+ str(SVML.score(x_train_b,y_train)))\n",
    "print(\"Testing Accuracy: \"+ str(SVML.score(x_test_b,y_test)))"
   ]
  },
  {
   "cell_type": "code",
   "execution_count": 9,
   "metadata": {},
   "outputs": [
    {
     "name": "stderr",
     "output_type": "stream",
     "text": [
      "D:\\Softwares\\Anaconda\\lib\\site-packages\\pandas\\core\\frame.py:4170: SettingWithCopyWarning: \n",
      "A value is trying to be set on a copy of a slice from a DataFrame\n",
      "\n",
      "See the caveats in the documentation: https://pandas.pydata.org/pandas-docs/stable/user_guide/indexing.html#returning-a-view-versus-a-copy\n",
      "  errors=errors,\n"
     ]
    }
   ],
   "source": [
    "cols1=['StDifferential','RelAttack','RelMidField','RelDefence']\n",
    "x_train_b.drop(cols1, axis = 1 , inplace = True)\n",
    "x_test_b.drop(cols1, axis = 1 , inplace = True)"
   ]
  },
  {
   "cell_type": "code",
   "execution_count": 32,
   "metadata": {},
   "outputs": [
    {
     "name": "stdout",
     "output_type": "stream",
     "text": [
      "Fitting 5 folds for each of 140 candidates, totalling 700 fits\n"
     ]
    },
    {
     "name": "stderr",
     "output_type": "stream",
     "text": [
      "[Parallel(n_jobs=-1)]: Using backend LokyBackend with 8 concurrent workers.\n",
      "[Parallel(n_jobs=-1)]: Done   2 tasks      | elapsed:   12.7s\n",
      "[Parallel(n_jobs=-1)]: Done  56 tasks      | elapsed:   55.4s\n",
      "[Parallel(n_jobs=-1)]: Done 146 tasks      | elapsed:  2.2min\n",
      "[Parallel(n_jobs=-1)]: Done 272 tasks      | elapsed:  4.0min\n",
      "[Parallel(n_jobs=-1)]: Done 434 tasks      | elapsed:  6.9min\n",
      "[Parallel(n_jobs=-1)]: Done 632 tasks      | elapsed: 10.1min\n",
      "[Parallel(n_jobs=-1)]: Done 700 out of 700 | elapsed: 12.5min finished\n"
     ]
    },
    {
     "data": {
      "text/plain": [
       "GridSearchCV(cv=5, error_score='raise-deprecating',\n",
       "             estimator=SVC(C=1, cache_size=200, class_weight=None, coef0=0.0,\n",
       "                           decision_function_shape='ovr', degree=3, gamma=0.01,\n",
       "                           kernel='rbf', max_iter=-1, probability=True,\n",
       "                           random_state=None, shrinking=True, tol=0.001,\n",
       "                           verbose=False),\n",
       "             iid='warn', n_jobs=-1,\n",
       "             param_grid={'C': [1, 2, 3, 4, 5, 6, 7, 8, 9, 10],\n",
       "                         'class_weight': [None, 'balanced'],\n",
       "                         'gamma': [0.01, 0.02, 0.03, 0.04, 0.05, 0.1, 0.2]},\n",
       "             pre_dispatch='2*n_jobs', refit=True, return_train_score=True,\n",
       "             scoring='accuracy', verbose=5)"
      ]
     },
     "execution_count": 32,
     "metadata": {},
     "output_type": "execute_result"
    }
   ],
   "source": [
    "grid=GridSearchCV(estimator=SVML,param_grid=params,scoring='accuracy',return_train_score=True,cv=5,verbose=5,n_jobs=-1)\n",
    "grid.fit(x_train_b,y_train)"
   ]
  },
  {
   "cell_type": "code",
   "execution_count": 33,
   "metadata": {},
   "outputs": [
    {
     "name": "stdout",
     "output_type": "stream",
     "text": [
      "{'C': 1, 'class_weight': None, 'gamma': 0.01}\n",
      "SVC(C=1, cache_size=200, class_weight=None, coef0=0.0,\n",
      "    decision_function_shape='ovr', degree=3, gamma=0.01, kernel='rbf',\n",
      "    max_iter=-1, probability=True, random_state=None, shrinking=True, tol=0.001,\n",
      "    verbose=False)\n"
     ]
    }
   ],
   "source": [
    "# print best parameter after tuning \n",
    "print(grid.best_params_) \n",
    "  \n",
    "# print how our model looks after hyper-parameter tuning \n",
    "print(grid.best_estimator_) "
   ]
  },
  {
   "cell_type": "code",
   "execution_count": 10,
   "metadata": {
    "scrolled": true
   },
   "outputs": [
    {
     "name": "stdout",
     "output_type": "stream",
     "text": [
      "Cross Validation Score for Class B features alone: 0.47877735690235684\n",
      "Validation Accuracy: 0.4978638564511535\n",
      "Testing Accuracy: 0.5078125\n"
     ]
    }
   ],
   "source": [
    "SVML=SVC(C=1, cache_size=200, class_weight='balanced', coef0=0.0,\n",
    "    decision_function_shape='ovr', degree=3, gamma=0.01, kernel='rbf',\n",
    "    max_iter=-1, probability=True, random_state=None, shrinking=True, tol=0.001,\n",
    "    verbose=False)\n",
    "crossvalscores=[]\n",
    "cvscore=cross_val_score(SVML,x_train_b,y_train,cv=10)\n",
    "crossvalscores.append(np.mean(cvscore))\n",
    "print(\"Cross Validation Score for Class B features alone: \"+ str(np.mean(crossvalscores)))\n",
    "\n",
    "SVML.fit(x_train_b,y_train)\n",
    "print(\"Validation Accuracy: \"+ str(SVML.score(x_train_b,y_train)))\n",
    "print(\"Testing Accuracy: \"+ str(SVML.score(x_test_b,y_test)))"
   ]
  },
  {
   "cell_type": "markdown",
   "metadata": {},
   "source": [
    "Removing the four columns lowered the accuracy. So, final results considered without removing them. "
   ]
  },
  {
   "cell_type": "code",
   "execution_count": 93,
   "metadata": {
    "colab": {
     "base_uri": "https://localhost:8080/",
     "height": 67
    },
    "id": "JiRLXnVlS3r8",
    "outputId": "0b0b8843-ed7e-44b1-a45f-cc008eece911"
   },
   "outputs": [
    {
     "name": "stdout",
     "output_type": "stream",
     "text": [
      "[[179  48  81]\n",
      " [ 21 111  42]\n",
      " [ 58  43  57]]\n"
     ]
    },
    {
     "name": "stderr",
     "output_type": "stream",
     "text": [
      "D:\\Softwares\\Anaconda\\lib\\site-packages\\sklearn\\utils\\validation.py:70: FutureWarning: Pass labels=['H', 'A', 'D'] as keyword args. From version 0.25 passing these as positional arguments will result in an error\n",
      "  FutureWarning)\n"
     ]
    }
   ],
   "source": [
    "y_pred=SVML.predict(x_test_b)\n",
    "labels=['H','A','D']\n",
    "\n",
    "ConfusionMatrix= confusion_matrix(y_test,y_pred,labels)\n",
    "print(ConfusionMatrix)"
   ]
  },
  {
   "cell_type": "code",
   "execution_count": 94,
   "metadata": {
    "colab": {
     "base_uri": "https://localhost:8080/",
     "height": 238
    },
    "id": "3-FrZ128S3r-",
    "outputId": "d3585ce0-e7e9-4945-e56e-a465621d0b74"
   },
   "outputs": [
    {
     "name": "stdout",
     "output_type": "stream",
     "text": [
      "              precision    recall  f1-score   support\n",
      "\n",
      "           H       0.69      0.58      0.63       308\n",
      "           A       0.55      0.64      0.59       174\n",
      "           D       0.32      0.36      0.34       158\n",
      "\n",
      "    accuracy                           0.54       640\n",
      "   macro avg       0.52      0.53      0.52       640\n",
      "weighted avg       0.56      0.54      0.55       640\n",
      "\n"
     ]
    }
   ],
   "source": [
    "print(classification_report(y_test,y_pred,labels))"
   ]
  },
  {
   "cell_type": "code",
   "execution_count": null,
   "metadata": {},
   "outputs": [],
   "source": []
  },
  {
   "cell_type": "markdown",
   "metadata": {},
   "source": [
    "### RPS Score"
   ]
  },
  {
   "cell_type": "code",
   "execution_count": 95,
   "metadata": {
    "id": "aUWPb3cSQNmi"
   },
   "outputs": [
    {
     "name": "stdout",
     "output_type": "stream",
     "text": [
      "0.18288553942078806\n"
     ]
    }
   ],
   "source": [
    "prob_pred = SVML.predict_proba(x_test_b)\n",
    "\n",
    "def RPS(p, e, r):\n",
    "    m = dict(zip(np.unique(y_pred), [0, 1, 2]))\n",
    "    n = len(p)\n",
    "    rps = []\n",
    "    for x in range(n):\n",
    "        sum1=0\n",
    "\n",
    "        for i in range(0, r):\n",
    "            sum2=0\n",
    "            obs = [0]*r\n",
    "            obs[m[e[x]]] = 1\n",
    "\n",
    "            for j in range(0, i):\n",
    "                sum2 += p[x][j]-obs[j]\n",
    "\n",
    "            sum1 += sum2**2\n",
    "        rps.append(sum1/(r-1))\n",
    "\n",
    "    #print(rps)\n",
    "\n",
    "    #print('RPS:' + str(sum(rps)/n))\n",
    "    print(np.mean(rps))\n",
    "RPS(prob_pred, y_test, 3)"
   ]
  },
  {
   "cell_type": "code",
   "execution_count": 96,
   "metadata": {
    "id": "aiAnsUo0KrRi"
   },
   "outputs": [],
   "source": [
    "Actual=[]\n",
    "Home=Away=Draw=0\n",
    "for i in y_test:\n",
    "  if(i=='H'):\n",
    "    Home+=1;\n",
    "  elif(i=='A'):\n",
    "    Away+=1;\n",
    "  else:\n",
    "    Draw+=1;\n",
    "Actual.append(Home)\n",
    "Actual.append(Away)\n",
    "Actual.append(Draw)"
   ]
  },
  {
   "cell_type": "code",
   "execution_count": 97,
   "metadata": {
    "id": "EFXgQXdOLMfN"
   },
   "outputs": [],
   "source": [
    "Predicted=[]\n",
    "PHome=PAway=PDraw=0\n",
    "for i in y_pred:\n",
    "  if(i=='H'):\n",
    "    PHome+=1;\n",
    "  elif(i=='A'):\n",
    "    PAway+=1;\n",
    "  else:\n",
    "    PDraw+=1;\n",
    "Predicted.append(PHome)\n",
    "Predicted.append(PAway)\n",
    "Predicted.append(PDraw)"
   ]
  },
  {
   "cell_type": "markdown",
   "metadata": {
    "id": "ORdp3EW2SfXF"
   },
   "source": [
    "#### Plots\n"
   ]
  },
  {
   "cell_type": "code",
   "execution_count": 98,
   "metadata": {
    "colab": {
     "base_uri": "https://localhost:8080/",
     "height": 497
    },
    "id": "34eXmsaeJz7X",
    "outputId": "f30e3649-1160-46bf-eaa4-7ea5014fbf0e"
   },
   "outputs": [
    {
     "data": {
      "image/png": "[encoded data removed]",
      "text/plain": [
       "<Figure size 864x576 with 1 Axes>"
      ]
     },
     "metadata": {
      "needs_background": "light"
     },
     "output_type": "display_data"
    }
   ],
   "source": [
    "import numpy as np \n",
    "import matplotlib.pyplot as plt \n",
    "   \n",
    "# set width of bar \n",
    "barWidth = 0.25\n",
    "fig = plt.subplots(figsize =(12, 8)) \n",
    "      \n",
    "# Set position of bar on X axis \n",
    "br1 = np.arange(3) \n",
    "br2 = [x + barWidth for x in br1] \n",
    "   \n",
    "# Make the plot \n",
    "plt.bar(br1, Actual, color ='b', width = barWidth, \n",
    "        edgecolor ='grey', label ='Actual') \n",
    "plt.bar(br2, Predicted, color ='r', width = barWidth, \n",
    "        edgecolor ='grey', label ='Predicted') \n",
    "   \n",
    "# Adding Xticks  \n",
    "plt.xlabel('SVM Linear Class B features alone', fontweight ='bold') \n",
    "plt.ylabel('', fontweight ='bold') \n",
    "plt.xticks([r + barWidth/2 for r in range(len(Actual))], \n",
    "           ['Home Wins', 'Away Wins', 'Draw']) \n",
    "plt.legend(loc=\"upper right\")   \n",
    "plt.show()"
   ]
  },
  {
   "cell_type": "code",
   "execution_count": null,
   "metadata": {},
   "outputs": [],
   "source": []
  },
  {
   "cell_type": "markdown",
   "metadata": {
    "id": "fvv-Tp1gSiPQ"
   },
   "source": [
    "# RBF Kernel"
   ]
  },
  {
   "cell_type": "markdown",
   "metadata": {
    "id": "Wg7achyjS3rf"
   },
   "source": [
    "## Class A features alone:"
   ]
  },
  {
   "cell_type": "code",
   "execution_count": 99,
   "metadata": {
    "id": "sCz_ZQawS3rg"
   },
   "outputs": [],
   "source": [
    "classAfeatures=['HForm', 'AForm', 'HSt', 'ASt', 'HSTKPP', 'ASTKPP', 'HGKPP', 'AGKPP',\n",
    "       'HCKPP', 'ACKPP', 'HAttack', 'AAttack', 'HMidField', 'AMidField',\n",
    "       'HDefence', 'ADefence', 'HOverall', 'AOverall', 'HTGD', 'ATGD',\n",
    "       'HStWeighted', 'AStWeighted']"
   ]
  },
  {
   "cell_type": "code",
   "execution_count": 100,
   "metadata": {
    "id": "gHntMtcNS3rk"
   },
   "outputs": [],
   "source": [
    "x_train_a_rbf=x_train[classAfeatures]\n",
    "x_test_a_rbf=x_test[classAfeatures]"
   ]
  },
  {
   "cell_type": "code",
   "execution_count": 101,
   "metadata": {
    "colab": {
     "base_uri": "https://localhost:8080/",
     "height": 422
    },
    "id": "ToNHsVGzT_qZ",
    "outputId": "dcbb32db-c577-4342-8714-03b20469075d"
   },
   "outputs": [
    {
     "data": {
      "text/html": [
       "<div>\n",
       "<style scoped>\n",
       "    .dataframe tbody tr th:only-of-type {\n",
       "        vertical-align: middle;\n",
       "    }\n",
       "\n",
       "    .dataframe tbody tr th {\n",
       "        vertical-align: top;\n",
       "    }\n",
       "\n",
       "    .dataframe thead th {\n",
       "        text-align: right;\n",
       "    }\n",
       "</style>\n",
       "<table border=\"1\" class=\"dataframe\">\n",
       "  <thead>\n",
       "    <tr style=\"text-align: right;\">\n",
       "      <th></th>\n",
       "      <th>HForm</th>\n",
       "      <th>AForm</th>\n",
       "      <th>HSt</th>\n",
       "      <th>ASt</th>\n",
       "      <th>HSTKPP</th>\n",
       "      <th>ASTKPP</th>\n",
       "      <th>HGKPP</th>\n",
       "      <th>AGKPP</th>\n",
       "      <th>HCKPP</th>\n",
       "      <th>ACKPP</th>\n",
       "      <th>...</th>\n",
       "      <th>HMidField</th>\n",
       "      <th>AMidField</th>\n",
       "      <th>HDefence</th>\n",
       "      <th>ADefence</th>\n",
       "      <th>HOverall</th>\n",
       "      <th>AOverall</th>\n",
       "      <th>HTGD</th>\n",
       "      <th>ATGD</th>\n",
       "      <th>HStWeighted</th>\n",
       "      <th>AStWeighted</th>\n",
       "    </tr>\n",
       "  </thead>\n",
       "  <tbody>\n",
       "    <tr>\n",
       "      <th>0</th>\n",
       "      <td>1.735889</td>\n",
       "      <td>0.541347</td>\n",
       "      <td>0.611111</td>\n",
       "      <td>0.277778</td>\n",
       "      <td>5.166667</td>\n",
       "      <td>6.500000</td>\n",
       "      <td>1.166667</td>\n",
       "      <td>0.833333</td>\n",
       "      <td>6.000000</td>\n",
       "      <td>6.500000</td>\n",
       "      <td>...</td>\n",
       "      <td>77</td>\n",
       "      <td>71</td>\n",
       "      <td>70</td>\n",
       "      <td>75</td>\n",
       "      <td>75</td>\n",
       "      <td>74</td>\n",
       "      <td>2</td>\n",
       "      <td>-3</td>\n",
       "      <td>0.714286</td>\n",
       "      <td>0.380952</td>\n",
       "    </tr>\n",
       "    <tr>\n",
       "      <th>1</th>\n",
       "      <td>3.425197</td>\n",
       "      <td>0.816488</td>\n",
       "      <td>1.000000</td>\n",
       "      <td>0.333333</td>\n",
       "      <td>7.833333</td>\n",
       "      <td>4.166667</td>\n",
       "      <td>2.000000</td>\n",
       "      <td>0.833333</td>\n",
       "      <td>5.666667</td>\n",
       "      <td>6.166667</td>\n",
       "      <td>...</td>\n",
       "      <td>88</td>\n",
       "      <td>75</td>\n",
       "      <td>85</td>\n",
       "      <td>77</td>\n",
       "      <td>87</td>\n",
       "      <td>78</td>\n",
       "      <td>10</td>\n",
       "      <td>-4</td>\n",
       "      <td>1.000000</td>\n",
       "      <td>0.349206</td>\n",
       "    </tr>\n",
       "    <tr>\n",
       "      <th>2</th>\n",
       "      <td>0.832549</td>\n",
       "      <td>1.136243</td>\n",
       "      <td>0.277778</td>\n",
       "      <td>0.611111</td>\n",
       "      <td>4.666667</td>\n",
       "      <td>6.833333</td>\n",
       "      <td>0.666667</td>\n",
       "      <td>1.166667</td>\n",
       "      <td>5.500000</td>\n",
       "      <td>5.666667</td>\n",
       "      <td>...</td>\n",
       "      <td>80</td>\n",
       "      <td>77</td>\n",
       "      <td>76</td>\n",
       "      <td>78</td>\n",
       "      <td>80</td>\n",
       "      <td>78</td>\n",
       "      <td>-3</td>\n",
       "      <td>2</td>\n",
       "      <td>0.396825</td>\n",
       "      <td>0.523810</td>\n",
       "    </tr>\n",
       "    <tr>\n",
       "      <th>3</th>\n",
       "      <td>0.912100</td>\n",
       "      <td>0.211655</td>\n",
       "      <td>0.444444</td>\n",
       "      <td>0.055556</td>\n",
       "      <td>3.666667</td>\n",
       "      <td>5.500000</td>\n",
       "      <td>1.000000</td>\n",
       "      <td>0.500000</td>\n",
       "      <td>5.000000</td>\n",
       "      <td>4.000000</td>\n",
       "      <td>...</td>\n",
       "      <td>79</td>\n",
       "      <td>66</td>\n",
       "      <td>79</td>\n",
       "      <td>65</td>\n",
       "      <td>80</td>\n",
       "      <td>68</td>\n",
       "      <td>-1</td>\n",
       "      <td>-7</td>\n",
       "      <td>0.492063</td>\n",
       "      <td>0.095238</td>\n",
       "    </tr>\n",
       "    <tr>\n",
       "      <th>4</th>\n",
       "      <td>0.994804</td>\n",
       "      <td>0.465517</td>\n",
       "      <td>0.500000</td>\n",
       "      <td>0.277778</td>\n",
       "      <td>5.833333</td>\n",
       "      <td>5.333333</td>\n",
       "      <td>0.833333</td>\n",
       "      <td>0.833333</td>\n",
       "      <td>2.666667</td>\n",
       "      <td>5.333333</td>\n",
       "      <td>...</td>\n",
       "      <td>79</td>\n",
       "      <td>78</td>\n",
       "      <td>76</td>\n",
       "      <td>74</td>\n",
       "      <td>79</td>\n",
       "      <td>75</td>\n",
       "      <td>2</td>\n",
       "      <td>-4</td>\n",
       "      <td>0.365079</td>\n",
       "      <td>0.285714</td>\n",
       "    </tr>\n",
       "    <tr>\n",
       "      <th>...</th>\n",
       "      <td>...</td>\n",
       "      <td>...</td>\n",
       "      <td>...</td>\n",
       "      <td>...</td>\n",
       "      <td>...</td>\n",
       "      <td>...</td>\n",
       "      <td>...</td>\n",
       "      <td>...</td>\n",
       "      <td>...</td>\n",
       "      <td>...</td>\n",
       "      <td>...</td>\n",
       "      <td>...</td>\n",
       "      <td>...</td>\n",
       "      <td>...</td>\n",
       "      <td>...</td>\n",
       "      <td>...</td>\n",
       "      <td>...</td>\n",
       "      <td>...</td>\n",
       "      <td>...</td>\n",
       "      <td>...</td>\n",
       "      <td>...</td>\n",
       "    </tr>\n",
       "    <tr>\n",
       "      <th>3506</th>\n",
       "      <td>0.334750</td>\n",
       "      <td>2.154985</td>\n",
       "      <td>0.111111</td>\n",
       "      <td>0.611111</td>\n",
       "      <td>3.000000</td>\n",
       "      <td>5.833333</td>\n",
       "      <td>0.833333</td>\n",
       "      <td>2.500000</td>\n",
       "      <td>3.666667</td>\n",
       "      <td>6.833333</td>\n",
       "      <td>...</td>\n",
       "      <td>78</td>\n",
       "      <td>76</td>\n",
       "      <td>76</td>\n",
       "      <td>74</td>\n",
       "      <td>77</td>\n",
       "      <td>77</td>\n",
       "      <td>-15</td>\n",
       "      <td>15</td>\n",
       "      <td>0.095238</td>\n",
       "      <td>0.666667</td>\n",
       "    </tr>\n",
       "    <tr>\n",
       "      <th>3507</th>\n",
       "      <td>1.923311</td>\n",
       "      <td>1.111482</td>\n",
       "      <td>0.555556</td>\n",
       "      <td>0.611111</td>\n",
       "      <td>4.333333</td>\n",
       "      <td>5.166667</td>\n",
       "      <td>1.666667</td>\n",
       "      <td>2.333333</td>\n",
       "      <td>4.333333</td>\n",
       "      <td>5.333333</td>\n",
       "      <td>...</td>\n",
       "      <td>76</td>\n",
       "      <td>82</td>\n",
       "      <td>76</td>\n",
       "      <td>81</td>\n",
       "      <td>76</td>\n",
       "      <td>82</td>\n",
       "      <td>-10</td>\n",
       "      <td>30</td>\n",
       "      <td>0.634921</td>\n",
       "      <td>0.476190</td>\n",
       "    </tr>\n",
       "    <tr>\n",
       "      <th>3508</th>\n",
       "      <td>0.133752</td>\n",
       "      <td>1.368153</td>\n",
       "      <td>0.388889</td>\n",
       "      <td>0.611111</td>\n",
       "      <td>4.833333</td>\n",
       "      <td>4.000000</td>\n",
       "      <td>1.333333</td>\n",
       "      <td>1.666667</td>\n",
       "      <td>4.833333</td>\n",
       "      <td>4.000000</td>\n",
       "      <td>...</td>\n",
       "      <td>74</td>\n",
       "      <td>74</td>\n",
       "      <td>74</td>\n",
       "      <td>74</td>\n",
       "      <td>75</td>\n",
       "      <td>75</td>\n",
       "      <td>-10</td>\n",
       "      <td>-14</td>\n",
       "      <td>0.301587</td>\n",
       "      <td>0.730159</td>\n",
       "    </tr>\n",
       "    <tr>\n",
       "      <th>3509</th>\n",
       "      <td>0.464721</td>\n",
       "      <td>1.070654</td>\n",
       "      <td>0.111111</td>\n",
       "      <td>0.611111</td>\n",
       "      <td>3.166667</td>\n",
       "      <td>6.666667</td>\n",
       "      <td>0.500000</td>\n",
       "      <td>2.000000</td>\n",
       "      <td>6.833333</td>\n",
       "      <td>6.666667</td>\n",
       "      <td>...</td>\n",
       "      <td>73</td>\n",
       "      <td>79</td>\n",
       "      <td>73</td>\n",
       "      <td>79</td>\n",
       "      <td>75</td>\n",
       "      <td>79</td>\n",
       "      <td>-14</td>\n",
       "      <td>13</td>\n",
       "      <td>0.158730</td>\n",
       "      <td>0.523810</td>\n",
       "    </tr>\n",
       "    <tr>\n",
       "      <th>3510</th>\n",
       "      <td>1.299334</td>\n",
       "      <td>0.312145</td>\n",
       "      <td>0.555556</td>\n",
       "      <td>0.222222</td>\n",
       "      <td>4.166667</td>\n",
       "      <td>3.333333</td>\n",
       "      <td>1.166667</td>\n",
       "      <td>1.000000</td>\n",
       "      <td>7.500000</td>\n",
       "      <td>6.166667</td>\n",
       "      <td>...</td>\n",
       "      <td>80</td>\n",
       "      <td>74</td>\n",
       "      <td>77</td>\n",
       "      <td>72</td>\n",
       "      <td>81</td>\n",
       "      <td>73</td>\n",
       "      <td>12</td>\n",
       "      <td>-20</td>\n",
       "      <td>0.539683</td>\n",
       "      <td>0.190476</td>\n",
       "    </tr>\n",
       "  </tbody>\n",
       "</table>\n",
       "<p>3511 rows × 22 columns</p>\n",
       "</div>"
      ],
      "text/plain": [
       "         HForm     AForm       HSt       ASt    HSTKPP    ASTKPP     HGKPP  \\\n",
       "0     1.735889  0.541347  0.611111  0.277778  5.166667  6.500000  1.166667   \n",
       "1     3.425197  0.816488  1.000000  0.333333  7.833333  4.166667  2.000000   \n",
       "2     0.832549  1.136243  0.277778  0.611111  4.666667  6.833333  0.666667   \n",
       "3     0.912100  0.211655  0.444444  0.055556  3.666667  5.500000  1.000000   \n",
       "4     0.994804  0.465517  0.500000  0.277778  5.833333  5.333333  0.833333   \n",
       "...        ...       ...       ...       ...       ...       ...       ...   \n",
       "3506  0.334750  2.154985  0.111111  0.611111  3.000000  5.833333  0.833333   \n",
       "3507  1.923311  1.111482  0.555556  0.611111  4.333333  5.166667  1.666667   \n",
       "3508  0.133752  1.368153  0.388889  0.611111  4.833333  4.000000  1.333333   \n",
       "3509  0.464721  1.070654  0.111111  0.611111  3.166667  6.666667  0.500000   \n",
       "3510  1.299334  0.312145  0.555556  0.222222  4.166667  3.333333  1.166667   \n",
       "\n",
       "         AGKPP     HCKPP     ACKPP  ...  HMidField  AMidField  HDefence  \\\n",
       "0     0.833333  6.000000  6.500000  ...         77         71        70   \n",
       "1     0.833333  5.666667  6.166667  ...         88         75        85   \n",
       "2     1.166667  5.500000  5.666667  ...         80         77        76   \n",
       "3     0.500000  5.000000  4.000000  ...         79         66        79   \n",
       "4     0.833333  2.666667  5.333333  ...         79         78        76   \n",
       "...        ...       ...       ...  ...        ...        ...       ...   \n",
       "3506  2.500000  3.666667  6.833333  ...         78         76        76   \n",
       "3507  2.333333  4.333333  5.333333  ...         76         82        76   \n",
       "3508  1.666667  4.833333  4.000000  ...         74         74        74   \n",
       "3509  2.000000  6.833333  6.666667  ...         73         79        73   \n",
       "3510  1.000000  7.500000  6.166667  ...         80         74        77   \n",
       "\n",
       "      ADefence  HOverall  AOverall  HTGD  ATGD  HStWeighted  AStWeighted  \n",
       "0           75        75        74     2    -3     0.714286     0.380952  \n",
       "1           77        87        78    10    -4     1.000000     0.349206  \n",
       "2           78        80        78    -3     2     0.396825     0.523810  \n",
       "3           65        80        68    -1    -7     0.492063     0.095238  \n",
       "4           74        79        75     2    -4     0.365079     0.285714  \n",
       "...        ...       ...       ...   ...   ...          ...          ...  \n",
       "3506        74        77        77   -15    15     0.095238     0.666667  \n",
       "3507        81        76        82   -10    30     0.634921     0.476190  \n",
       "3508        74        75        75   -10   -14     0.301587     0.730159  \n",
       "3509        79        75        79   -14    13     0.158730     0.523810  \n",
       "3510        72        81        73    12   -20     0.539683     0.190476  \n",
       "\n",
       "[3511 rows x 22 columns]"
      ]
     },
     "execution_count": 101,
     "metadata": {},
     "output_type": "execute_result"
    }
   ],
   "source": [
    "x_train_a_rbf"
   ]
  },
  {
   "cell_type": "code",
   "execution_count": 102,
   "metadata": {
    "colab": {
     "base_uri": "https://localhost:8080/"
    },
    "id": "v60JmkkbS3rm",
    "outputId": "d1817cb9-b1d1-4173-8c06-56cfb777047b"
   },
   "outputs": [
    {
     "name": "stdout",
     "output_type": "stream",
     "text": [
      "Cross Validation Score for Class A features: 0.5334628334628333\n",
      "Validation Accuracy: 0.5334662489319282\n",
      "Testing Accuracy: 0.5796875\n"
     ]
    }
   ],
   "source": [
    "SVML=SVC(kernel='rbf', probability = True)\n",
    "crossvalscores=[]\n",
    "cvscore=cross_val_score(SVML,x_train_a_rbf,y_train,cv=10)\n",
    "crossvalscores.append(np.mean(cvscore))\n",
    "print(\"Cross Validation Score for Class A features: \"+ str(np.mean(crossvalscores)))\n",
    "\n",
    "SVML.fit(x_train_a_rbf,y_train)\n",
    "print(\"Validation Accuracy: \"+ str(SVML.score(x_train_a_rbf,y_train)))\n",
    "print(\"Testing Accuracy: \"+ str(SVML.score(x_test_a_rbf,y_test)))"
   ]
  },
  {
   "cell_type": "code",
   "execution_count": 26,
   "metadata": {
    "colab": {
     "base_uri": "https://localhost:8080/",
     "height": 336
    },
    "id": "04JtNQ6CS3rp",
    "outputId": "465c469b-604b-488f-94e8-4562668077ea"
   },
   "outputs": [
    {
     "name": "stdout",
     "output_type": "stream",
     "text": [
      "Fitting 5 folds for each of 70 candidates, totalling 350 fits\n"
     ]
    },
    {
     "name": "stderr",
     "output_type": "stream",
     "text": [
      "[Parallel(n_jobs=-1)]: Using backend LokyBackend with 8 concurrent workers.\n",
      "[Parallel(n_jobs=-1)]: Done   2 tasks      | elapsed:   21.7s\n",
      "[Parallel(n_jobs=-1)]: Done  56 tasks      | elapsed:  1.5min\n",
      "[Parallel(n_jobs=-1)]: Done 146 tasks      | elapsed:  3.8min\n",
      "[Parallel(n_jobs=-1)]: Done 272 tasks      | elapsed:  6.7min\n",
      "[Parallel(n_jobs=-1)]: Done 350 out of 350 | elapsed:  8.6min finished\n"
     ]
    },
    {
     "data": {
      "text/plain": [
       "GridSearchCV(cv=5, error_score='raise-deprecating',\n",
       "             estimator=SVC(C=1.0, cache_size=200, class_weight=None, coef0=0.0,\n",
       "                           decision_function_shape='ovr', degree=3,\n",
       "                           gamma='auto_deprecated', kernel='rbf', max_iter=-1,\n",
       "                           probability=True, random_state=None, shrinking=True,\n",
       "                           tol=0.001, verbose=False),\n",
       "             iid='warn', n_jobs=-1,\n",
       "             param_grid={'C': [1, 2, 3, 4, 5, 6, 7, 8, 9, 10],\n",
       "                         'gamma': [0.01, 0.02, 0.03, 0.04, 0.05, 0.1, 0.2]},\n",
       "             pre_dispatch='2*n_jobs', refit=True, return_train_score=True,\n",
       "             scoring='accuracy', verbose=5)"
      ]
     },
     "execution_count": 26,
     "metadata": {},
     "output_type": "execute_result"
    }
   ],
   "source": [
    "#SVML=SVC(kernel='rbf', probability = True)\n",
    "#params={'C':[1,2,3,4,5,6,7,8,9,10],'gamma':[0.01, 0.02, 0.03, 0.04, 0.05, 0.10, 0.20]}\n",
    "#grid=GridSearchCV(estimator=SVML,param_grid=params,scoring='accuracy',return_train_score=True,cv=5,verbose=5,n_jobs=-1)\n",
    "#grid.fit(x_train_a,y_train)"
   ]
  },
  {
   "cell_type": "code",
   "execution_count": 27,
   "metadata": {
    "colab": {
     "base_uri": "https://localhost:8080/",
     "height": 101
    },
    "id": "Vk-YuCvaS3rs",
    "outputId": "c32db4df-81e7-476d-e657-6e5f7e5fc0a8"
   },
   "outputs": [
    {
     "name": "stdout",
     "output_type": "stream",
     "text": [
      "{'C': 1, 'gamma': 0.01}\n",
      "SVC(C=1, cache_size=200, class_weight=None, coef0=0.0,\n",
      "    decision_function_shape='ovr', degree=3, gamma=0.01, kernel='rbf',\n",
      "    max_iter=-1, probability=True, random_state=None, shrinking=True, tol=0.001,\n",
      "    verbose=False)\n"
     ]
    }
   ],
   "source": [
    "# print best parameter after tuning \n",
    "print(grid.best_params_) \n",
    "  \n",
    "# print how our model looks after hyper-parameter tuning \n",
    "print(grid.best_estimator_) "
   ]
  },
  {
   "cell_type": "markdown",
   "metadata": {},
   "source": [
    "SVC(C=1, cache_size=200, class_weight=None, coef0=0.0,\n",
    "    decision_function_shape='ovr', degree=3, gamma=0.01, kernel='rbf',\n",
    "    max_iter=-1, probability=True, random_state=None, shrinking=True, tol=0.001,\n",
    "    verbose=False)"
   ]
  },
  {
   "cell_type": "code",
   "execution_count": 28,
   "metadata": {
    "colab": {
     "base_uri": "https://localhost:8080/",
     "height": 34
    },
    "id": "643eIN4mS3ru",
    "outputId": "4271134f-db53-4eb7-ef5c-d30264396cb3"
   },
   "outputs": [
    {
     "data": {
      "text/plain": [
       "0.5197949302193108"
      ]
     },
     "execution_count": 28,
     "metadata": {},
     "output_type": "execute_result"
    }
   ],
   "source": [
    "grid.best_score_"
   ]
  },
  {
   "cell_type": "code",
   "execution_count": 103,
   "metadata": {
    "colab": {
     "base_uri": "https://localhost:8080/",
     "height": 67
    },
    "id": "5_27ZsSaS3rw",
    "outputId": "d559d815-e90d-4310-9c4f-e1918e14b5d8"
   },
   "outputs": [
    {
     "name": "stdout",
     "output_type": "stream",
     "text": [
      "Cross Validation Score for Class A features: 0.46595603470603475\n",
      "Validation Accuracy: 0.6530902876673312\n",
      "Testing Accuracy: 0.5\n"
     ]
    }
   ],
   "source": [
    "SVML=SVC(C=1, cache_size=200, class_weight='balanced', coef0=0.0,\n",
    "    decision_function_shape='ovr', degree=3, gamma=0.01, kernel='rbf',\n",
    "    max_iter=-1, probability=True, random_state=None, shrinking=True, tol=0.001,\n",
    "    verbose=False)\n",
    "\n",
    "crossvalscores=[]\n",
    "cvscore=cross_val_score(SVML,x_train_a_rbf,y_train,cv=10)\n",
    "crossvalscores.append(np.mean(cvscore))\n",
    "print(\"Cross Validation Score for Class A features: \"+ str(np.mean(crossvalscores)))\n",
    "\n",
    "SVML.fit(x_train_a_rbf,y_train)\n",
    "print(\"Validation Accuracy: \"+ str(SVML.score(x_train_a_rbf,y_train)))\n",
    "print(\"Testing Accuracy: \"+ str(SVML.score(x_test_a_rbf,y_test)))"
   ]
  },
  {
   "cell_type": "code",
   "execution_count": 104,
   "metadata": {},
   "outputs": [
    {
     "name": "stderr",
     "output_type": "stream",
     "text": [
      "D:\\Softwares\\Anaconda\\lib\\site-packages\\pandas\\core\\frame.py:4170: SettingWithCopyWarning: \n",
      "A value is trying to be set on a copy of a slice from a DataFrame\n",
      "\n",
      "See the caveats in the documentation: https://pandas.pydata.org/pandas-docs/stable/user_guide/indexing.html#returning-a-view-versus-a-copy\n",
      "  errors=errors,\n"
     ]
    }
   ],
   "source": [
    "nonGaussianDistcols = ['HAttack', 'AAttack', 'HMidField', 'AMidField','HDefence', 'ADefence']\n",
    "x_train_a_rbf.drop(nonGaussianDistcols, axis = 1 , inplace = True)\n",
    "x_test_a_rbf.drop(nonGaussianDistcols, axis = 1 , inplace = True)"
   ]
  },
  {
   "cell_type": "code",
   "execution_count": 34,
   "metadata": {},
   "outputs": [
    {
     "name": "stdout",
     "output_type": "stream",
     "text": [
      "Fitting 5 folds for each of 70 candidates, totalling 350 fits\n"
     ]
    },
    {
     "name": "stderr",
     "output_type": "stream",
     "text": [
      "[Parallel(n_jobs=-1)]: Using backend LokyBackend with 8 concurrent workers.\n",
      "[Parallel(n_jobs=-1)]: Done   2 tasks      | elapsed:   29.2s\n",
      "[Parallel(n_jobs=-1)]: Done  56 tasks      | elapsed:  1.6min\n",
      "[Parallel(n_jobs=-1)]: Done 146 tasks      | elapsed:  3.9min\n",
      "[Parallel(n_jobs=-1)]: Done 272 tasks      | elapsed:  7.0min\n",
      "[Parallel(n_jobs=-1)]: Done 350 out of 350 | elapsed:  9.0min finished\n"
     ]
    },
    {
     "data": {
      "text/plain": [
       "GridSearchCV(cv=5, error_score='raise-deprecating',\n",
       "             estimator=SVC(C=1, cache_size=200, class_weight=None, coef0=0.0,\n",
       "                           decision_function_shape='ovr', degree=3, gamma=0.01,\n",
       "                           kernel='rbf', max_iter=-1, probability=True,\n",
       "                           random_state=None, shrinking=True, tol=0.001,\n",
       "                           verbose=False),\n",
       "             iid='warn', n_jobs=-1,\n",
       "             param_grid={'C': [1, 2, 3, 4, 5, 6, 7, 8, 9, 10],\n",
       "                         'gamma': [0.01, 0.02, 0.03, 0.04, 0.05, 0.1, 0.2]},\n",
       "             pre_dispatch='2*n_jobs', refit=True, return_train_score=True,\n",
       "             scoring='accuracy', verbose=5)"
      ]
     },
     "execution_count": 34,
     "metadata": {},
     "output_type": "execute_result"
    }
   ],
   "source": [
    "#grid=GridSearchCV(estimator=SVML,param_grid=params,scoring='accuracy',return_train_score=True,cv=5,verbose=5,n_jobs=-1)\n",
    "#grid.fit(x_train_a,y_train)"
   ]
  },
  {
   "cell_type": "code",
   "execution_count": 35,
   "metadata": {},
   "outputs": [
    {
     "name": "stdout",
     "output_type": "stream",
     "text": [
      "{'C': 1, 'gamma': 0.01}\n",
      "SVC(C=1, cache_size=200, class_weight=None, coef0=0.0,\n",
      "    decision_function_shape='ovr', degree=3, gamma=0.01, kernel='rbf',\n",
      "    max_iter=-1, probability=True, random_state=None, shrinking=True, tol=0.001,\n",
      "    verbose=False)\n"
     ]
    }
   ],
   "source": [
    "# print best parameter after tuning \n",
    "print(grid.best_params_) \n",
    "  \n",
    "# print how our model looks after hyper-parameter tuning \n",
    "print(grid.best_estimator_) "
   ]
  },
  {
   "cell_type": "code",
   "execution_count": 105,
   "metadata": {},
   "outputs": [
    {
     "name": "stdout",
     "output_type": "stream",
     "text": [
      "Cross Validation Score for Class A features: 0.4648164335664335\n",
      "Validation Accuracy: 0.5556821418399317\n",
      "Testing Accuracy: 0.49375\n"
     ]
    }
   ],
   "source": [
    "SVML=SVC(C=1, cache_size=200, class_weight='balanced', coef0=0.0,\n",
    "    decision_function_shape='ovr', degree=3, gamma=0.01, kernel='rbf',\n",
    "    max_iter=-1, probability=True, random_state=None, shrinking=True, tol=0.001,\n",
    "    verbose=False)\n",
    "\n",
    "crossvalscores=[]\n",
    "cvscore=cross_val_score(SVML,x_train_a_rbf,y_train,cv=10)\n",
    "crossvalscores.append(np.mean(cvscore))\n",
    "print(\"Cross Validation Score for Class A features: \"+ str(np.mean(crossvalscores)))\n",
    "\n",
    "SVML.fit(x_train_a_rbf,y_train)\n",
    "print(\"Validation Accuracy: \"+ str(SVML.score(x_train_a_rbf,y_train)))\n",
    "print(\"Testing Accuracy: \"+ str(SVML.score(x_test_a_rbf,y_test)))"
   ]
  },
  {
   "cell_type": "code",
   "execution_count": 106,
   "metadata": {
    "colab": {
     "base_uri": "https://localhost:8080/",
     "height": 67
    },
    "id": "JiRLXnVlS3r8",
    "outputId": "0b0b8843-ed7e-44b1-a45f-cc008eece911"
   },
   "outputs": [
    {
     "name": "stdout",
     "output_type": "stream",
     "text": [
      "[[144  72  92]\n",
      " [ 22 120  32]\n",
      " [ 44  62  52]]\n"
     ]
    },
    {
     "name": "stderr",
     "output_type": "stream",
     "text": [
      "D:\\Softwares\\Anaconda\\lib\\site-packages\\sklearn\\utils\\validation.py:70: FutureWarning: Pass labels=['H', 'A', 'D'] as keyword args. From version 0.25 passing these as positional arguments will result in an error\n",
      "  FutureWarning)\n"
     ]
    }
   ],
   "source": [
    "y_pred=SVML.predict(x_test_a_rbf)\n",
    "labels=['H','A','D']\n",
    "\n",
    "ConfusionMatrix= confusion_matrix(y_test,y_pred,labels)\n",
    "print(ConfusionMatrix)"
   ]
  },
  {
   "cell_type": "code",
   "execution_count": 107,
   "metadata": {
    "colab": {
     "base_uri": "https://localhost:8080/",
     "height": 238
    },
    "id": "3-FrZ128S3r-",
    "outputId": "d3585ce0-e7e9-4945-e56e-a465621d0b74"
   },
   "outputs": [
    {
     "name": "stdout",
     "output_type": "stream",
     "text": [
      "              precision    recall  f1-score   support\n",
      "\n",
      "           H       0.69      0.47      0.56       308\n",
      "           A       0.47      0.69      0.56       174\n",
      "           D       0.30      0.33      0.31       158\n",
      "\n",
      "    accuracy                           0.49       640\n",
      "   macro avg       0.48      0.50      0.48       640\n",
      "weighted avg       0.53      0.49      0.50       640\n",
      "\n"
     ]
    }
   ],
   "source": [
    "print(classification_report(y_test,y_pred,labels))"
   ]
  },
  {
   "cell_type": "markdown",
   "metadata": {},
   "source": [
    "### RPS Score"
   ]
  },
  {
   "cell_type": "code",
   "execution_count": 108,
   "metadata": {
    "id": "aUWPb3cSQNmi"
   },
   "outputs": [
    {
     "name": "stdout",
     "output_type": "stream",
     "text": [
      "0.1917781227210345\n"
     ]
    }
   ],
   "source": [
    "prob_pred = SVML.predict_proba(x_test_a_rbf)\n",
    "\n",
    "def RPS(p, e, r):\n",
    "    m = dict(zip(np.unique(y_pred), [0, 1, 2]))\n",
    "    n = len(p)\n",
    "    rps = []\n",
    "    for x in range(n):\n",
    "        sum1=0\n",
    "\n",
    "        for i in range(0, r):\n",
    "            sum2=0\n",
    "            obs = [0]*r\n",
    "            obs[m[e[x]]] = 1\n",
    "\n",
    "            for j in range(0, i):\n",
    "                sum2 += p[x][j]-obs[j]\n",
    "\n",
    "            sum1 += sum2**2\n",
    "        rps.append(sum1/(r-1))\n",
    "\n",
    "    #print(rps)\n",
    "\n",
    "    #print('RPS:' + str(sum(rps)/n))\n",
    "    print(np.mean(rps))\n",
    "RPS(prob_pred, y_test, 3)"
   ]
  },
  {
   "cell_type": "code",
   "execution_count": 109,
   "metadata": {
    "id": "aiAnsUo0KrRi"
   },
   "outputs": [],
   "source": [
    "Actual=[]\n",
    "Home=Away=Draw=0\n",
    "for i in y_test:\n",
    "  if(i=='H'):\n",
    "    Home+=1;\n",
    "  elif(i=='A'):\n",
    "    Away+=1;\n",
    "  else:\n",
    "    Draw+=1;\n",
    "Actual.append(Home)\n",
    "Actual.append(Away)\n",
    "Actual.append(Draw)"
   ]
  },
  {
   "cell_type": "code",
   "execution_count": 110,
   "metadata": {
    "id": "EFXgQXdOLMfN"
   },
   "outputs": [],
   "source": [
    "Predicted=[]\n",
    "PHome=PAway=PDraw=0\n",
    "for i in y_pred:\n",
    "  if(i=='H'):\n",
    "    PHome+=1;\n",
    "  elif(i=='A'):\n",
    "    PAway+=1;\n",
    "  else:\n",
    "    PDraw+=1;\n",
    "Predicted.append(PHome)\n",
    "Predicted.append(PAway)\n",
    "Predicted.append(PDraw)"
   ]
  },
  {
   "cell_type": "markdown",
   "metadata": {
    "id": "ORdp3EW2SfXF"
   },
   "source": [
    "#### Plots\n"
   ]
  },
  {
   "cell_type": "code",
   "execution_count": 111,
   "metadata": {
    "colab": {
     "base_uri": "https://localhost:8080/",
     "height": 497
    },
    "id": "34eXmsaeJz7X",
    "outputId": "f30e3649-1160-46bf-eaa4-7ea5014fbf0e"
   },
   "outputs": [
    {
     "data": {
      "image/png": "[encoded data removed]",
      "text/plain": [
       "<Figure size 864x576 with 1 Axes>"
      ]
     },
     "metadata": {
      "needs_background": "light"
     },
     "output_type": "display_data"
    }
   ],
   "source": [
    "import numpy as np \n",
    "import matplotlib.pyplot as plt \n",
    "   \n",
    "# set width of bar \n",
    "barWidth = 0.25\n",
    "fig = plt.subplots(figsize =(12, 8)) \n",
    "      \n",
    "# Set position of bar on X axis \n",
    "br1 = np.arange(3) \n",
    "br2 = [x + barWidth for x in br1] \n",
    "   \n",
    "# Make the plot \n",
    "plt.bar(br1, Actual, color ='b', width = barWidth, \n",
    "        edgecolor ='grey', label ='Actual') \n",
    "plt.bar(br2, Predicted, color ='r', width = barWidth, \n",
    "        edgecolor ='grey', label ='Predicted') \n",
    "   \n",
    "# Adding Xticks  \n",
    "plt.xlabel('SVM RBF Class A features alone', fontweight ='bold') \n",
    "plt.ylabel('', fontweight ='bold') \n",
    "plt.xticks([r + barWidth/2 for r in range(len(Actual))], \n",
    "           ['Home Wins', 'Away Wins', 'Draw']) \n",
    "plt.legend(loc=\"upper right\")   \n",
    "plt.show()"
   ]
  },
  {
   "cell_type": "code",
   "execution_count": null,
   "metadata": {},
   "outputs": [],
   "source": []
  },
  {
   "cell_type": "markdown",
   "metadata": {
    "id": "Wg7achyjS3rf"
   },
   "source": [
    "## Class B features alone:"
   ]
  },
  {
   "cell_type": "code",
   "execution_count": 112,
   "metadata": {
    "id": "sCz_ZQawS3rg"
   },
   "outputs": [],
   "source": [
    "classBfeatures=['FormDifferential', 'StDifferential',\n",
    "       'STKPP', 'GKPP', 'CKPP', 'RelAttack', 'RelMidField', 'RelDefence',\n",
    "       'RelOverall', 'GDDifferential', 'StWeightedDifferential']"
   ]
  },
  {
   "cell_type": "code",
   "execution_count": 113,
   "metadata": {
    "id": "gHntMtcNS3rk"
   },
   "outputs": [],
   "source": [
    "x_train_b_rbf=x_train[classBfeatures]\n",
    "x_test_b_rbf=x_test[classBfeatures]"
   ]
  },
  {
   "cell_type": "code",
   "execution_count": 114,
   "metadata": {
    "colab": {
     "base_uri": "https://localhost:8080/",
     "height": 422
    },
    "id": "ToNHsVGzT_qZ",
    "outputId": "dcbb32db-c577-4342-8714-03b20469075d"
   },
   "outputs": [
    {
     "data": {
      "text/html": [
       "<div>\n",
       "<style scoped>\n",
       "    .dataframe tbody tr th:only-of-type {\n",
       "        vertical-align: middle;\n",
       "    }\n",
       "\n",
       "    .dataframe tbody tr th {\n",
       "        vertical-align: top;\n",
       "    }\n",
       "\n",
       "    .dataframe thead th {\n",
       "        text-align: right;\n",
       "    }\n",
       "</style>\n",
       "<table border=\"1\" class=\"dataframe\">\n",
       "  <thead>\n",
       "    <tr style=\"text-align: right;\">\n",
       "      <th></th>\n",
       "      <th>FormDifferential</th>\n",
       "      <th>StDifferential</th>\n",
       "      <th>STKPP</th>\n",
       "      <th>GKPP</th>\n",
       "      <th>CKPP</th>\n",
       "      <th>RelAttack</th>\n",
       "      <th>RelMidField</th>\n",
       "      <th>RelDefence</th>\n",
       "      <th>RelOverall</th>\n",
       "      <th>GDDifferential</th>\n",
       "      <th>StWeightedDifferential</th>\n",
       "    </tr>\n",
       "  </thead>\n",
       "  <tbody>\n",
       "    <tr>\n",
       "      <th>0</th>\n",
       "      <td>1.194542</td>\n",
       "      <td>0.333333</td>\n",
       "      <td>-1.333333</td>\n",
       "      <td>0.333333</td>\n",
       "      <td>-0.500000</td>\n",
       "      <td>3</td>\n",
       "      <td>6</td>\n",
       "      <td>-5</td>\n",
       "      <td>1</td>\n",
       "      <td>5</td>\n",
       "      <td>0.333333</td>\n",
       "    </tr>\n",
       "    <tr>\n",
       "      <th>1</th>\n",
       "      <td>2.608709</td>\n",
       "      <td>0.666667</td>\n",
       "      <td>3.666667</td>\n",
       "      <td>1.166667</td>\n",
       "      <td>-0.500000</td>\n",
       "      <td>3</td>\n",
       "      <td>13</td>\n",
       "      <td>8</td>\n",
       "      <td>9</td>\n",
       "      <td>14</td>\n",
       "      <td>0.650794</td>\n",
       "    </tr>\n",
       "    <tr>\n",
       "      <th>2</th>\n",
       "      <td>-0.303694</td>\n",
       "      <td>-0.333333</td>\n",
       "      <td>-2.166667</td>\n",
       "      <td>-0.500000</td>\n",
       "      <td>-0.166667</td>\n",
       "      <td>6</td>\n",
       "      <td>3</td>\n",
       "      <td>-2</td>\n",
       "      <td>2</td>\n",
       "      <td>-5</td>\n",
       "      <td>-0.126984</td>\n",
       "    </tr>\n",
       "    <tr>\n",
       "      <th>3</th>\n",
       "      <td>0.700445</td>\n",
       "      <td>0.388889</td>\n",
       "      <td>-1.833333</td>\n",
       "      <td>0.500000</td>\n",
       "      <td>1.000000</td>\n",
       "      <td>11</td>\n",
       "      <td>13</td>\n",
       "      <td>14</td>\n",
       "      <td>12</td>\n",
       "      <td>6</td>\n",
       "      <td>0.396825</td>\n",
       "    </tr>\n",
       "    <tr>\n",
       "      <th>4</th>\n",
       "      <td>0.529287</td>\n",
       "      <td>0.222222</td>\n",
       "      <td>0.500000</td>\n",
       "      <td>0.000000</td>\n",
       "      <td>-2.666667</td>\n",
       "      <td>10</td>\n",
       "      <td>1</td>\n",
       "      <td>2</td>\n",
       "      <td>4</td>\n",
       "      <td>6</td>\n",
       "      <td>0.079365</td>\n",
       "    </tr>\n",
       "    <tr>\n",
       "      <th>...</th>\n",
       "      <td>...</td>\n",
       "      <td>...</td>\n",
       "      <td>...</td>\n",
       "      <td>...</td>\n",
       "      <td>...</td>\n",
       "      <td>...</td>\n",
       "      <td>...</td>\n",
       "      <td>...</td>\n",
       "      <td>...</td>\n",
       "      <td>...</td>\n",
       "      <td>...</td>\n",
       "    </tr>\n",
       "    <tr>\n",
       "      <th>3506</th>\n",
       "      <td>-1.820235</td>\n",
       "      <td>-0.500000</td>\n",
       "      <td>-2.833333</td>\n",
       "      <td>-1.666667</td>\n",
       "      <td>-3.166667</td>\n",
       "      <td>0</td>\n",
       "      <td>2</td>\n",
       "      <td>2</td>\n",
       "      <td>0</td>\n",
       "      <td>-30</td>\n",
       "      <td>-0.571429</td>\n",
       "    </tr>\n",
       "    <tr>\n",
       "      <th>3507</th>\n",
       "      <td>0.811829</td>\n",
       "      <td>-0.055556</td>\n",
       "      <td>-0.833333</td>\n",
       "      <td>-0.666667</td>\n",
       "      <td>-1.000000</td>\n",
       "      <td>-7</td>\n",
       "      <td>-6</td>\n",
       "      <td>-5</td>\n",
       "      <td>-6</td>\n",
       "      <td>-40</td>\n",
       "      <td>0.158730</td>\n",
       "    </tr>\n",
       "    <tr>\n",
       "      <th>3508</th>\n",
       "      <td>-1.234401</td>\n",
       "      <td>-0.222222</td>\n",
       "      <td>0.833333</td>\n",
       "      <td>-0.333333</td>\n",
       "      <td>0.833333</td>\n",
       "      <td>0</td>\n",
       "      <td>0</td>\n",
       "      <td>0</td>\n",
       "      <td>0</td>\n",
       "      <td>4</td>\n",
       "      <td>-0.428571</td>\n",
       "    </tr>\n",
       "    <tr>\n",
       "      <th>3509</th>\n",
       "      <td>-0.605933</td>\n",
       "      <td>-0.500000</td>\n",
       "      <td>-3.500000</td>\n",
       "      <td>-1.500000</td>\n",
       "      <td>0.166667</td>\n",
       "      <td>-5</td>\n",
       "      <td>-6</td>\n",
       "      <td>-6</td>\n",
       "      <td>-4</td>\n",
       "      <td>-27</td>\n",
       "      <td>-0.365079</td>\n",
       "    </tr>\n",
       "    <tr>\n",
       "      <th>3510</th>\n",
       "      <td>0.987189</td>\n",
       "      <td>0.333333</td>\n",
       "      <td>0.833333</td>\n",
       "      <td>0.166667</td>\n",
       "      <td>1.333333</td>\n",
       "      <td>-3</td>\n",
       "      <td>6</td>\n",
       "      <td>5</td>\n",
       "      <td>8</td>\n",
       "      <td>32</td>\n",
       "      <td>0.349206</td>\n",
       "    </tr>\n",
       "  </tbody>\n",
       "</table>\n",
       "<p>3511 rows × 11 columns</p>\n",
       "</div>"
      ],
      "text/plain": [
       "      FormDifferential  StDifferential     STKPP      GKPP      CKPP  \\\n",
       "0             1.194542        0.333333 -1.333333  0.333333 -0.500000   \n",
       "1             2.608709        0.666667  3.666667  1.166667 -0.500000   \n",
       "2            -0.303694       -0.333333 -2.166667 -0.500000 -0.166667   \n",
       "3             0.700445        0.388889 -1.833333  0.500000  1.000000   \n",
       "4             0.529287        0.222222  0.500000  0.000000 -2.666667   \n",
       "...                ...             ...       ...       ...       ...   \n",
       "3506         -1.820235       -0.500000 -2.833333 -1.666667 -3.166667   \n",
       "3507          0.811829       -0.055556 -0.833333 -0.666667 -1.000000   \n",
       "3508         -1.234401       -0.222222  0.833333 -0.333333  0.833333   \n",
       "3509         -0.605933       -0.500000 -3.500000 -1.500000  0.166667   \n",
       "3510          0.987189        0.333333  0.833333  0.166667  1.333333   \n",
       "\n",
       "      RelAttack  RelMidField  RelDefence  RelOverall  GDDifferential  \\\n",
       "0             3            6          -5           1               5   \n",
       "1             3           13           8           9              14   \n",
       "2             6            3          -2           2              -5   \n",
       "3            11           13          14          12               6   \n",
       "4            10            1           2           4               6   \n",
       "...         ...          ...         ...         ...             ...   \n",
       "3506          0            2           2           0             -30   \n",
       "3507         -7           -6          -5          -6             -40   \n",
       "3508          0            0           0           0               4   \n",
       "3509         -5           -6          -6          -4             -27   \n",
       "3510         -3            6           5           8              32   \n",
       "\n",
       "      StWeightedDifferential  \n",
       "0                   0.333333  \n",
       "1                   0.650794  \n",
       "2                  -0.126984  \n",
       "3                   0.396825  \n",
       "4                   0.079365  \n",
       "...                      ...  \n",
       "3506               -0.571429  \n",
       "3507                0.158730  \n",
       "3508               -0.428571  \n",
       "3509               -0.365079  \n",
       "3510                0.349206  \n",
       "\n",
       "[3511 rows x 11 columns]"
      ]
     },
     "execution_count": 114,
     "metadata": {},
     "output_type": "execute_result"
    }
   ],
   "source": [
    "x_train_b_rbf"
   ]
  },
  {
   "cell_type": "code",
   "execution_count": 42,
   "metadata": {
    "colab": {
     "base_uri": "https://localhost:8080/"
    },
    "id": "v60JmkkbS3rm",
    "outputId": "d1817cb9-b1d1-4173-8c06-56cfb777047b"
   },
   "outputs": [
    {
     "name": "stdout",
     "output_type": "stream",
     "text": [
      "Cross Validation Score for Class B features alone: 0.5397298303548305\n",
      "Validation Accuracy: 0.541726003987468\n",
      "Testing Accuracy: 0.58125\n"
     ]
    }
   ],
   "source": [
    "SVML=SVC(kernel='rbf', probability = True)\n",
    "crossvalscores=[]\n",
    "cvscore=cross_val_score(SVML,x_train_b_rbf,y_train,cv=10)\n",
    "crossvalscores.append(np.mean(cvscore))\n",
    "print(\"Cross Validation Score for Class B features alone: \"+ str(np.mean(crossvalscores)))\n",
    "\n",
    "SVML.fit(x_train_b_rbf,y_train)\n",
    "print(\"Validation Accuracy: \"+ str(SVML.score(x_train_b_rbf,y_train)))\n",
    "print(\"Testing Accuracy: \"+ str(SVML.score(x_test_b_rbf,y_test)))"
   ]
  },
  {
   "cell_type": "code",
   "execution_count": 48,
   "metadata": {
    "colab": {
     "base_uri": "https://localhost:8080/",
     "height": 336
    },
    "id": "04JtNQ6CS3rp",
    "outputId": "465c469b-604b-488f-94e8-4562668077ea"
   },
   "outputs": [
    {
     "name": "stdout",
     "output_type": "stream",
     "text": [
      "Fitting 5 folds for each of 140 candidates, totalling 700 fits\n"
     ]
    },
    {
     "name": "stderr",
     "output_type": "stream",
     "text": [
      "[Parallel(n_jobs=-1)]: Using backend LokyBackend with 8 concurrent workers.\n",
      "[Parallel(n_jobs=-1)]: Done   2 tasks      | elapsed:    6.5s\n",
      "[Parallel(n_jobs=-1)]: Done  56 tasks      | elapsed:   46.5s\n",
      "[Parallel(n_jobs=-1)]: Done 146 tasks      | elapsed:  2.1min\n",
      "[Parallel(n_jobs=-1)]: Done 272 tasks      | elapsed:  4.0min\n",
      "[Parallel(n_jobs=-1)]: Done 434 tasks      | elapsed:  6.7min\n",
      "[Parallel(n_jobs=-1)]: Done 632 tasks      | elapsed:  9.9min\n",
      "[Parallel(n_jobs=-1)]: Done 700 out of 700 | elapsed: 11.0min finished\n"
     ]
    },
    {
     "data": {
      "text/plain": [
       "GridSearchCV(cv=5, estimator=SVC(probability=True), n_jobs=-1,\n",
       "             param_grid={'C': [1, 2, 3, 4, 5, 6, 7, 8, 9, 10],\n",
       "                         'class_weight': [None, 'balanced'],\n",
       "                         'gamma': [0.01, 0.02, 0.03, 0.04, 0.05, 0.1, 0.2]},\n",
       "             return_train_score=True, scoring='balanced_accuracy', verbose=5)"
      ]
     },
     "execution_count": 48,
     "metadata": {},
     "output_type": "execute_result"
    }
   ],
   "source": [
    "SVML=SVC(kernel='rbf', probability = True)\n",
    "params={'C':[1,2,3,4,5,6,7,8,9,10],'gamma':[0.01, 0.02, 0.03, 0.04, 0.05, 0.10, 0.20], 'class_weight':[None,'balanced']}\n",
    "grid=GridSearchCV(estimator=SVML,param_grid=params,scoring='balanced_accuracy',return_train_score=True,cv=5,verbose=5,n_jobs=-1)\n",
    "grid.fit(x_train_b_rbf,y_train)"
   ]
  },
  {
   "cell_type": "code",
   "execution_count": 49,
   "metadata": {
    "colab": {
     "base_uri": "https://localhost:8080/",
     "height": 101
    },
    "id": "Vk-YuCvaS3rs",
    "outputId": "c32db4df-81e7-476d-e657-6e5f7e5fc0a8"
   },
   "outputs": [
    {
     "name": "stdout",
     "output_type": "stream",
     "text": [
      "{'C': 1, 'class_weight': 'balanced', 'gamma': 0.01}\n",
      "SVC(C=1, class_weight='balanced', gamma=0.01, probability=True)\n"
     ]
    }
   ],
   "source": [
    "# print best parameter after tuning \n",
    "print(grid.best_params_) \n",
    "  \n",
    "# print how our model looks after hyper-parameter tuning \n",
    "print(grid.best_estimator_) "
   ]
  },
  {
   "cell_type": "code",
   "execution_count": 115,
   "metadata": {
    "colab": {
     "base_uri": "https://localhost:8080/",
     "height": 67
    },
    "id": "5_27ZsSaS3rw",
    "outputId": "d559d815-e90d-4310-9c4f-e1918e14b5d8"
   },
   "outputs": [
    {
     "name": "stdout",
     "output_type": "stream",
     "text": [
      "Cross Validation Score for Class A features: 0.4736515799015798\n",
      "Validation Accuracy: 0.5363144403303902\n",
      "Testing Accuracy: 0.503125\n"
     ]
    }
   ],
   "source": [
    "SVML=SVC(C=1, cache_size=200, class_weight='balanced', coef0=0.0,\n",
    "    decision_function_shape='ovr', degree=3, gamma=0.01, kernel='rbf',\n",
    "    max_iter=-1, probability=True, random_state=None, shrinking=True, tol=0.001,\n",
    "    verbose=False)\n",
    "\n",
    "crossvalscores=[]\n",
    "cvscore=cross_val_score(SVML,x_train_b_rbf,y_train,cv=10)\n",
    "crossvalscores.append(np.mean(cvscore))\n",
    "print(\"Cross Validation Score for Class A features: \"+ str(np.mean(crossvalscores)))\n",
    "\n",
    "SVML.fit(x_train_b_rbf,y_train)\n",
    "print(\"Validation Accuracy: \"+ str(SVML.score(x_train_b_rbf,y_train)))\n",
    "print(\"Testing Accuracy: \"+ str(SVML.score(x_test_b_rbf,y_test)))"
   ]
  },
  {
   "cell_type": "code",
   "execution_count": 116,
   "metadata": {},
   "outputs": [
    {
     "name": "stderr",
     "output_type": "stream",
     "text": [
      "D:\\Softwares\\Anaconda\\lib\\site-packages\\pandas\\core\\frame.py:4170: SettingWithCopyWarning: \n",
      "A value is trying to be set on a copy of a slice from a DataFrame\n",
      "\n",
      "See the caveats in the documentation: https://pandas.pydata.org/pandas-docs/stable/user_guide/indexing.html#returning-a-view-versus-a-copy\n",
      "  errors=errors,\n"
     ]
    }
   ],
   "source": [
    "cols1=['StDifferential','RelAttack','RelMidField','RelDefence']\n",
    "x_train_b.drop(cols1, axis = 1 , inplace = True)\n",
    "x_test_b.drop(cols1, axis = 1 , inplace = True)"
   ]
  },
  {
   "cell_type": "code",
   "execution_count": 32,
   "metadata": {},
   "outputs": [
    {
     "name": "stdout",
     "output_type": "stream",
     "text": [
      "Fitting 5 folds for each of 140 candidates, totalling 700 fits\n"
     ]
    },
    {
     "name": "stderr",
     "output_type": "stream",
     "text": [
      "[Parallel(n_jobs=-1)]: Using backend LokyBackend with 8 concurrent workers.\n",
      "[Parallel(n_jobs=-1)]: Done   2 tasks      | elapsed:   12.7s\n",
      "[Parallel(n_jobs=-1)]: Done  56 tasks      | elapsed:   55.4s\n",
      "[Parallel(n_jobs=-1)]: Done 146 tasks      | elapsed:  2.2min\n",
      "[Parallel(n_jobs=-1)]: Done 272 tasks      | elapsed:  4.0min\n",
      "[Parallel(n_jobs=-1)]: Done 434 tasks      | elapsed:  6.9min\n",
      "[Parallel(n_jobs=-1)]: Done 632 tasks      | elapsed: 10.1min\n",
      "[Parallel(n_jobs=-1)]: Done 700 out of 700 | elapsed: 12.5min finished\n"
     ]
    },
    {
     "data": {
      "text/plain": [
       "GridSearchCV(cv=5, error_score='raise-deprecating',\n",
       "             estimator=SVC(C=1, cache_size=200, class_weight=None, coef0=0.0,\n",
       "                           decision_function_shape='ovr', degree=3, gamma=0.01,\n",
       "                           kernel='rbf', max_iter=-1, probability=True,\n",
       "                           random_state=None, shrinking=True, tol=0.001,\n",
       "                           verbose=False),\n",
       "             iid='warn', n_jobs=-1,\n",
       "             param_grid={'C': [1, 2, 3, 4, 5, 6, 7, 8, 9, 10],\n",
       "                         'class_weight': [None, 'balanced'],\n",
       "                         'gamma': [0.01, 0.02, 0.03, 0.04, 0.05, 0.1, 0.2]},\n",
       "             pre_dispatch='2*n_jobs', refit=True, return_train_score=True,\n",
       "             scoring='accuracy', verbose=5)"
      ]
     },
     "execution_count": 32,
     "metadata": {},
     "output_type": "execute_result"
    }
   ],
   "source": [
    "grid=GridSearchCV(estimator=SVML,param_grid=params,scoring='accuracy',return_train_score=True,cv=5,verbose=5,n_jobs=-1)\n",
    "grid.fit(x_train_b,y_train)"
   ]
  },
  {
   "cell_type": "code",
   "execution_count": 33,
   "metadata": {},
   "outputs": [
    {
     "name": "stdout",
     "output_type": "stream",
     "text": [
      "{'C': 1, 'class_weight': None, 'gamma': 0.01}\n",
      "SVC(C=1, cache_size=200, class_weight=None, coef0=0.0,\n",
      "    decision_function_shape='ovr', degree=3, gamma=0.01, kernel='rbf',\n",
      "    max_iter=-1, probability=True, random_state=None, shrinking=True, tol=0.001,\n",
      "    verbose=False)\n"
     ]
    }
   ],
   "source": [
    "# print best parameter after tuning \n",
    "print(grid.best_params_) \n",
    "  \n",
    "# print how our model looks after hyper-parameter tuning \n",
    "print(grid.best_estimator_) "
   ]
  },
  {
   "cell_type": "code",
   "execution_count": 117,
   "metadata": {},
   "outputs": [
    {
     "name": "stdout",
     "output_type": "stream",
     "text": [
      "Cross Validation Score for Class A features: 0.4736515799015798\n",
      "Validation Accuracy: 0.5363144403303902\n",
      "Testing Accuracy: 0.503125\n"
     ]
    }
   ],
   "source": [
    "SVML=SVC(C=1, cache_size=200, class_weight='balanced', coef0=0.0,\n",
    "    decision_function_shape='ovr', degree=3, gamma=0.01, kernel='rbf',\n",
    "    max_iter=-1, probability=True, random_state=None, shrinking=True, tol=0.001,\n",
    "    verbose=False)\n",
    "crossvalscores=[]\n",
    "cvscore=cross_val_score(SVML,x_train_b_rbf,y_train,cv=10)\n",
    "crossvalscores.append(np.mean(cvscore))\n",
    "print(\"Cross Validation Score for Class A features: \"+ str(np.mean(crossvalscores)))\n",
    "\n",
    "SVML.fit(x_train_b_rbf,y_train)\n",
    "print(\"Validation Accuracy: \"+ str(SVML.score(x_train_b_rbf,y_train)))\n",
    "print(\"Testing Accuracy: \"+ str(SVML.score(x_test_b_rbf,y_test)))"
   ]
  },
  {
   "cell_type": "code",
   "execution_count": 118,
   "metadata": {
    "colab": {
     "base_uri": "https://localhost:8080/",
     "height": 67
    },
    "id": "JiRLXnVlS3r8",
    "outputId": "0b0b8843-ed7e-44b1-a45f-cc008eece911"
   },
   "outputs": [
    {
     "name": "stdout",
     "output_type": "stream",
     "text": [
      "[[144  65  99]\n",
      " [ 16 113  45]\n",
      " [ 35  58  65]]\n"
     ]
    },
    {
     "name": "stderr",
     "output_type": "stream",
     "text": [
      "D:\\Softwares\\Anaconda\\lib\\site-packages\\sklearn\\utils\\validation.py:70: FutureWarning: Pass labels=['H', 'A', 'D'] as keyword args. From version 0.25 passing these as positional arguments will result in an error\n",
      "  FutureWarning)\n"
     ]
    }
   ],
   "source": [
    "y_pred=SVML.predict(x_test_b_rbf)\n",
    "labels=['H','A','D']\n",
    "\n",
    "ConfusionMatrix= confusion_matrix(y_test,y_pred,labels)\n",
    "print(ConfusionMatrix)"
   ]
  },
  {
   "cell_type": "code",
   "execution_count": 119,
   "metadata": {
    "colab": {
     "base_uri": "https://localhost:8080/",
     "height": 238
    },
    "id": "3-FrZ128S3r-",
    "outputId": "d3585ce0-e7e9-4945-e56e-a465621d0b74"
   },
   "outputs": [
    {
     "name": "stdout",
     "output_type": "stream",
     "text": [
      "              precision    recall  f1-score   support\n",
      "\n",
      "           H       0.74      0.47      0.57       308\n",
      "           A       0.48      0.65      0.55       174\n",
      "           D       0.31      0.41      0.35       158\n",
      "\n",
      "    accuracy                           0.50       640\n",
      "   macro avg       0.51      0.51      0.49       640\n",
      "weighted avg       0.56      0.50      0.51       640\n",
      "\n"
     ]
    }
   ],
   "source": [
    "print(classification_report(y_test,y_pred,labels))"
   ]
  },
  {
   "cell_type": "code",
   "execution_count": null,
   "metadata": {},
   "outputs": [],
   "source": []
  },
  {
   "cell_type": "markdown",
   "metadata": {},
   "source": [
    "### RPS Score"
   ]
  },
  {
   "cell_type": "code",
   "execution_count": 120,
   "metadata": {
    "id": "aUWPb3cSQNmi"
   },
   "outputs": [
    {
     "name": "stdout",
     "output_type": "stream",
     "text": [
      "0.19052640948736627\n"
     ]
    }
   ],
   "source": [
    "prob_pred = SVML.predict_proba(x_test_b_rbf)\n",
    "\n",
    "def RPS(p, e, r):\n",
    "    m = dict(zip(np.unique(y_pred), [0, 1, 2]))\n",
    "    n = len(p)\n",
    "    rps = []\n",
    "    for x in range(n):\n",
    "        sum1=0\n",
    "\n",
    "        for i in range(0, r):\n",
    "            sum2=0\n",
    "            obs = [0]*r\n",
    "            obs[m[e[x]]] = 1\n",
    "\n",
    "            for j in range(0, i):\n",
    "                sum2 += p[x][j]-obs[j]\n",
    "\n",
    "            sum1 += sum2**2\n",
    "        rps.append(sum1/(r-1))\n",
    "\n",
    "    #print(rps)\n",
    "\n",
    "    #print('RPS:' + str(sum(rps)/n))\n",
    "    print(np.mean(rps))\n",
    "RPS(prob_pred, y_test, 3)"
   ]
  },
  {
   "cell_type": "code",
   "execution_count": 121,
   "metadata": {
    "id": "aiAnsUo0KrRi"
   },
   "outputs": [],
   "source": [
    "Actual=[]\n",
    "Home=Away=Draw=0\n",
    "for i in y_test:\n",
    "  if(i=='H'):\n",
    "    Home+=1;\n",
    "  elif(i=='A'):\n",
    "    Away+=1;\n",
    "  else:\n",
    "    Draw+=1;\n",
    "Actual.append(Home)\n",
    "Actual.append(Away)\n",
    "Actual.append(Draw)"
   ]
  },
  {
   "cell_type": "code",
   "execution_count": 122,
   "metadata": {
    "id": "EFXgQXdOLMfN"
   },
   "outputs": [],
   "source": [
    "Predicted=[]\n",
    "PHome=PAway=PDraw=0\n",
    "for i in y_pred:\n",
    "  if(i=='H'):\n",
    "    PHome+=1;\n",
    "  elif(i=='A'):\n",
    "    PAway+=1;\n",
    "  else:\n",
    "    PDraw+=1;\n",
    "Predicted.append(PHome)\n",
    "Predicted.append(PAway)\n",
    "Predicted.append(PDraw)"
   ]
  },
  {
   "cell_type": "markdown",
   "metadata": {
    "id": "ORdp3EW2SfXF"
   },
   "source": [
    "#### Plots\n"
   ]
  },
  {
   "cell_type": "code",
   "execution_count": 123,
   "metadata": {
    "colab": {
     "base_uri": "https://localhost:8080/",
     "height": 497
    },
    "id": "34eXmsaeJz7X",
    "outputId": "f30e3649-1160-46bf-eaa4-7ea5014fbf0e"
   },
   "outputs": [
    {
     "data": {
      "image/png": "[encoded data removed]",
      "text/plain": [
       "<Figure size 864x576 with 1 Axes>"
      ]
     },
     "metadata": {
      "needs_background": "light"
     },
     "output_type": "display_data"
    }
   ],
   "source": [
    "import numpy as np \n",
    "import matplotlib.pyplot as plt \n",
    "   \n",
    "# set width of bar \n",
    "barWidth = 0.25\n",
    "fig = plt.subplots(figsize =(12, 8)) \n",
    "      \n",
    "# Set position of bar on X axis \n",
    "br1 = np.arange(3) \n",
    "br2 = [x + barWidth for x in br1] \n",
    "   \n",
    "# Make the plot \n",
    "plt.bar(br1, Actual, color ='b', width = barWidth, \n",
    "        edgecolor ='grey', label ='Actual') \n",
    "plt.bar(br2, Predicted, color ='r', width = barWidth, \n",
    "        edgecolor ='grey', label ='Predicted') \n",
    "   \n",
    "# Adding Xticks  \n",
    "plt.xlabel('SVM RBF Class B features alone', fontweight ='bold') \n",
    "plt.ylabel('', fontweight ='bold') \n",
    "plt.xticks([r + barWidth/2 for r in range(len(Actual))], \n",
    "           ['Home Wins', 'Away Wins', 'Draw']) \n",
    "plt.legend(loc=\"upper right\")   \n",
    "plt.show()"
   ]
  },
  {
   "cell_type": "code",
   "execution_count": null,
   "metadata": {
    "id": "eD__75WYdfbe"
   },
   "outputs": [],
   "source": []
  },
  {
   "cell_type": "code",
   "execution_count": null,
   "metadata": {
    "id": "hQPxqLy2dfe9"
   },
   "outputs": [],
   "source": []
  }
 ],
 "metadata": {
  "colab": {
   "collapsed_sections": [],
   "name": "SVM.ipynb",
   "provenance": []
  },
  "kernelspec": {
   "display_name": "Python 3",
   "language": "python",
   "name": "python3"
  },
  "language_info": {
   "codemirror_mode": {
    "name": "ipython",
    "version": 3
   },
   "file_extension": ".py",
   "mimetype": "text/x-python",
   "name": "python",
   "nbconvert_exporter": "python",
   "pygments_lexer": "ipython3",
   "version": "3.7.4"
  }
 },
 "nbformat": 4,
 "nbformat_minor": 1
}
