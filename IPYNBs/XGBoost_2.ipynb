{
 "cells": [
  {
   "cell_type": "code",
   "execution_count": 1,
   "metadata": {},
   "outputs": [],
   "source": [
    "import pandas as pd\n",
    "import matplotlib.pyplot as plt\n",
    "import numpy as np\n",
    "import seaborn as sns\n",
    "from datetime import datetime as dt\n",
    "import itertools\n",
    "from sklearn import metrics\n",
    "from sklearn.metrics import precision_recall_fscore_support as score\n",
    "from sklearn.metrics import confusion_matrix\n",
    "from sklearn.model_selection import train_test_split\n",
    "from sklearn.metrics import accuracy_score\n",
    "from sklearn.metrics import classification_report\n",
    "from sklearn.model_selection import cross_val_score\n",
    "from sklearn.model_selection import GridSearchCV\n",
    "import xgboost as xgb"
   ]
  },
  {
   "cell_type": "code",
   "execution_count": 2,
   "metadata": {},
   "outputs": [],
   "source": [
    "x_train = pd.read_csv('XTRAIN2.csv')\n",
    "x_test = pd.read_csv('XTEST2.csv')\n",
    "y_train = pd.read_csv('YTRAIN2.csv')\n",
    "y_test = pd.read_csv('YTEST2.csv')\n",
    "\n",
    "y_test = y_test.values.ravel()\n",
    "y_train = y_train.values.ravel()"
   ]
  },
  {
   "cell_type": "markdown",
   "metadata": {
    "id": "T9FKfT1HLaMV"
   },
   "source": [
    "## **Using Class A Features**\n"
   ]
  },
  {
   "cell_type": "code",
   "execution_count": 3,
   "metadata": {
    "id": "HSwuDE7yLvCf"
   },
   "outputs": [],
   "source": [
    "classAFeatures=['HForm', 'AForm', 'HSt', 'ASt', 'HSTKPP', 'ASTKPP', 'HGKPP', 'AGKPP', 'HCKPP', 'ACKPP', \n",
    "                'HAttack', 'AAttack', 'HMidField', 'AMidField', 'HDefence', 'ADefence', 'HOverall', 'AOverall', \n",
    "                'HTGD', 'ATGD', 'HStWeighted', 'AStWeighted']\n",
    "\n",
    "x_train_A = x_train[classAFeatures]\n",
    "x_test_A = x_test[classAFeatures]                "
   ]
  },
  {
   "cell_type": "markdown",
   "metadata": {
    "id": "kWpUxQhqNVLa"
   },
   "source": [
    "Initial Cross Val Accuracy"
   ]
  },
  {
   "cell_type": "code",
   "execution_count": 4,
   "metadata": {
    "colab": {
     "base_uri": "https://localhost:8080/"
    },
    "id": "OcILPJBmNqyI",
    "outputId": "42fd89a7-d85b-4505-d15f-b7b9ca69b450"
   },
   "outputs": [
    {
     "name": "stdout",
     "output_type": "stream",
     "text": [
      "Validation Accuracy: 0.48103610978256867\n"
     ]
    }
   ],
   "source": [
    "xgb_clf = xgb.XGBClassifier()\n",
    "cv_scores = cross_val_score(xgb_clf, x_train_A, y_train, cv = 10)\n",
    "print('Validation Accuracy: ' + str(cv_scores.mean()))"
   ]
  },
  {
   "cell_type": "markdown",
   "metadata": {
    "id": "w5OraEVgOuRN"
   },
   "source": [
    "Test Accuracy"
   ]
  },
  {
   "cell_type": "code",
   "execution_count": 5,
   "metadata": {
    "colab": {
     "base_uri": "https://localhost:8080/"
    },
    "id": "fgFwwNmJOyA1",
    "outputId": "f755abbf-7c71-42aa-a1a3-a4162c1874ad"
   },
   "outputs": [
    {
     "name": "stdout",
     "output_type": "stream",
     "text": [
      "Test Accuracy: 0.528125\n"
     ]
    }
   ],
   "source": [
    "xgb_clf.fit(x_train_A, y_train)\n",
    "y_predicted = xgb_clf.predict(x_test_A)\n",
    "print (\"Test Accuracy: \" + str(accuracy_score(y_test, y_predicted)))"
   ]
  },
  {
   "cell_type": "markdown",
   "metadata": {
    "id": "qgfZzBRPQP9g"
   },
   "source": [
    "Using GridSearch"
   ]
  },
  {
   "cell_type": "code",
   "execution_count": 7,
   "metadata": {
    "colab": {
     "base_uri": "https://localhost:8080/",
     "height": 622
    },
    "id": "qEu2Um-tQUu1",
    "outputId": "85a87bf3-ee0a-428a-ca1a-7394af887150"
   },
   "outputs": [
    {
     "name": "stderr",
     "output_type": "stream",
     "text": [
      "D:\\Tools\\Anaconda\\lib\\site-packages\\sklearn\\model_selection\\_split.py:1978: FutureWarning: The default value of cv will change from 3 to 5 in version 0.22. Specify it explicitly to silence this warning.\n",
      "  warnings.warn(CV_WARNING, FutureWarning)\n",
      "[Parallel(n_jobs=-1)]: Using backend LokyBackend with 8 concurrent workers.\n"
     ]
    },
    {
     "name": "stdout",
     "output_type": "stream",
     "text": [
      "Fitting 3 folds for each of 2400 candidates, totalling 7200 fits\n"
     ]
    },
    {
     "name": "stderr",
     "output_type": "stream",
     "text": [
      "[Parallel(n_jobs=-1)]: Done  25 tasks      | elapsed:   26.4s\n",
      "[Parallel(n_jobs=-1)]: Done 146 tasks      | elapsed:  1.1min\n",
      "[Parallel(n_jobs=-1)]: Done 349 tasks      | elapsed:  3.6min\n",
      "[Parallel(n_jobs=-1)]: Done 632 tasks      | elapsed:  5.7min\n",
      "[Parallel(n_jobs=-1)]: Done 997 tasks      | elapsed:  9.0min\n",
      "[Parallel(n_jobs=-1)]: Done 1442 tasks      | elapsed: 12.9min\n",
      "[Parallel(n_jobs=-1)]: Done 1969 tasks      | elapsed: 17.0min\n",
      "[Parallel(n_jobs=-1)]: Done 2576 tasks      | elapsed: 22.6min\n",
      "[Parallel(n_jobs=-1)]: Done 3265 tasks      | elapsed: 28.6min\n",
      "[Parallel(n_jobs=-1)]: Done 4034 tasks      | elapsed: 35.0min\n",
      "[Parallel(n_jobs=-1)]: Done 4885 tasks      | elapsed: 42.1min\n",
      "[Parallel(n_jobs=-1)]: Done 5816 tasks      | elapsed: 50.3min\n",
      "[Parallel(n_jobs=-1)]: Done 6829 tasks      | elapsed: 59.6min\n",
      "[Parallel(n_jobs=-1)]: Done 7200 out of 7200 | elapsed: 62.7min finished\n"
     ]
    },
    {
     "data": {
      "text/plain": [
       "GridSearchCV(cv='warn', error_score='raise-deprecating',\n",
       "             estimator=XGBClassifier(base_score=0.5, booster='gbtree',\n",
       "                                     colsample_bylevel=1, colsample_bynode=1,\n",
       "                                     colsample_bytree=1, gamma=0, gpu_id=-1,\n",
       "                                     importance_type='gain',\n",
       "                                     interaction_constraints='',\n",
       "                                     learning_rate=0.300000012,\n",
       "                                     max_delta_step=0, max_depth=6,\n",
       "                                     min_child_weight=1, missing=nan,\n",
       "                                     monotone_constraints='()',\n",
       "                                     n...\n",
       "                                     tree_method='exact', validate_parameters=1,\n",
       "                                     verbosity=None),\n",
       "             iid='warn', n_jobs=-1,\n",
       "             param_grid={'gamma': [0.01, 0.05, 0.1, 0.2, 0.5],\n",
       "                         'learning_rate': [0.01, 0.025, 0.05, 0.1],\n",
       "                         'max_depth': [3, 6, 9, 12, 15, 18],\n",
       "                         'objective': ['multi:softprob'],\n",
       "                         'reg_alpha': [0.05, 0.1, 0.2, 10],\n",
       "                         'reg_lambda': [0.01, 0.075, 0.1, 0.2, 10]},\n",
       "             pre_dispatch='2*n_jobs', refit=True, return_train_score=False,\n",
       "             scoring='accuracy', verbose=2)"
      ]
     },
     "execution_count": 7,
     "metadata": {},
     "output_type": "execute_result"
    }
   ],
   "source": [
    "parameters = { 'learning_rate' : [0.01, 0.025, 0.05, 0.1],\n",
    "               'gamma' : [0.01, 0.05, 0.1, 0.2, 0.5],\n",
    "               'reg_lambda' : [0.01, 0.075, 0.1, 0.2, 10], \n",
    "               'reg_alpha' : [0.05, 0.1, 0.2, 10], \n",
    "               'max_depth' : [3, 6, 9, 12, 15, 18],\n",
    "               'objective' : ['multi:softprob']\n",
    "              }\n",
    "grid_rf = GridSearchCV(xgb_clf, parameters, n_jobs = -1, verbose = 2, scoring = 'accuracy')\n",
    "grid_rf.fit(x_train_A, y_train)"
   ]
  },
  {
   "cell_type": "code",
   "execution_count": 8,
   "metadata": {
    "colab": {
     "base_uri": "https://localhost:8080/",
     "height": 178
    },
    "id": "ggflOC4gPHJe",
    "outputId": "9c82ae72-245e-4849-b864-5aeb5564941e"
   },
   "outputs": [
    {
     "name": "stdout",
     "output_type": "stream",
     "text": [
      "Best Score: 0.5351751637710054\n",
      "Best Set of Estimators: XGBClassifier(base_score=0.5, booster='gbtree', colsample_bylevel=1,\n",
      "              colsample_bynode=1, colsample_bytree=1, gamma=0.01, gpu_id=-1,\n",
      "              importance_type='gain', interaction_constraints='',\n",
      "              learning_rate=0.025, max_delta_step=0, max_depth=3,\n",
      "              min_child_weight=1, missing=nan, monotone_constraints='()',\n",
      "              n_estimators=100, n_jobs=0, num_parallel_tree=1,\n",
      "              objective='multi:softprob', random_state=0, reg_alpha=0.05,\n",
      "              reg_lambda=0.2, scale_pos_weight=None, subsample=1,\n",
      "              tree_method='exact', validate_parameters=1, verbosity=None)\n"
     ]
    }
   ],
   "source": [
    "print('Best Score: ' + str(grid_rf.best_score_))\n",
    "print('Best Set of Estimators: ' + str(grid_rf.best_estimator_))"
   ]
  },
  {
   "cell_type": "markdown",
   "metadata": {},
   "source": [
    "Using this set of params to tune the model"
   ]
  },
  {
   "cell_type": "code",
   "execution_count": 6,
   "metadata": {},
   "outputs": [
    {
     "name": "stdout",
     "output_type": "stream",
     "text": [
      "Test Accuracy: 0.5453125\n",
      "[[182  61  65]\n",
      " [ 31 119  24]\n",
      " [ 65  45  48]]\n",
      "              precision    recall  f1-score   support\n",
      "\n",
      "           H       0.65      0.59      0.62       308\n",
      "           A       0.53      0.68      0.60       174\n",
      "           D       0.35      0.30      0.33       158\n",
      "\n",
      "    accuracy                           0.55       640\n",
      "   macro avg       0.51      0.53      0.51       640\n",
      "weighted avg       0.55      0.55      0.54       640\n",
      "\n"
     ]
    }
   ],
   "source": [
    "xgb_clf = xgb.XGBClassifier(base_score=0.5, booster='gbtree', colsample_bylevel=1,\n",
    "              colsample_bynode=1, colsample_bytree=1, gamma=0.01, gpu_id=-1,\n",
    "              importance_type='gain', interaction_constraints='',\n",
    "              learning_rate=0.025, max_delta_step=0, max_depth=3,\n",
    "              min_child_weight=1, monotone_constraints='()',\n",
    "              n_estimators=100, n_jobs=0, num_parallel_tree=1,\n",
    "              objective='multi:softprob', random_state=0, reg_alpha=0.05,\n",
    "              reg_lambda=0.2, scale_pos_weight=None, subsample=1,\n",
    "              tree_method='exact', validate_parameters=1, verbosity=None)\n",
    "\n",
    "unique_elements, counts_elements = np.unique(y_train, return_counts=True)\n",
    "n_instances = dict(zip(unique_elements, counts_elements))\n",
    "wt_vec = [0]*len(y_train)\n",
    "least = min(counts_elements)\n",
    "for i in range(0, len(y_train)):\n",
    "    wt_vec[i] = (least / n_instances[y_train[i]])\n",
    "\n",
    "xgb_clf.fit(x_train_A, y_train, sample_weight = wt_vec)\n",
    "\n",
    "y_predicted = xgb_clf.predict(x_test_A)\n",
    "print('Test Accuracy: ' + str(accuracy_score(y_test, y_predicted)))\n",
    "\n",
    "labels=['H','A','D']\n",
    "confusionMatrix = confusion_matrix(y_test, y_predicted, labels)\n",
    "print(confusionMatrix)\n",
    "print(classification_report(y_test, y_predicted, labels))"
   ]
  },
  {
   "cell_type": "markdown",
   "metadata": {},
   "source": [
    "# RPS Value"
   ]
  },
  {
   "cell_type": "code",
   "execution_count": 7,
   "metadata": {},
   "outputs": [
    {
     "name": "stdout",
     "output_type": "stream",
     "text": [
      "0.1951880560993074\n"
     ]
    }
   ],
   "source": [
    "prob_pred = xgb_clf.predict_proba(x_test_A)\n",
    "\n",
    "def RPS(p, e, r):\n",
    "    m = dict(zip(np.unique(y_predicted), [0, 1, 2]))\n",
    "    n = len(p)\n",
    "    rps = []\n",
    "    for x in range(n):        \n",
    "        sum1=0\n",
    "        \n",
    "        for i in range(0, r):            \n",
    "            sum2=0\n",
    "            obs = [0]*r\n",
    "            obs[m[e[x]]] = 1\n",
    "            \n",
    "            for j in range(0, i):\n",
    "                sum2 += p[x][j]-obs[j]\n",
    "                \n",
    "            sum1 += sum2**2            \n",
    "        rps.append(sum1/(r-1))\n",
    "        \n",
    "    #print(rps)\n",
    "    \n",
    "    #print('RPS:' + str(sum(rps)/n))\n",
    "    print(np.mean(rps))\n",
    "RPS(prob_pred, y_test, 3)"
   ]
  },
  {
   "cell_type": "markdown",
   "metadata": {},
   "source": [
    "Graphs"
   ]
  },
  {
   "cell_type": "code",
   "execution_count": 8,
   "metadata": {},
   "outputs": [
    {
     "data": {
      "image/png": "[encoded data removed]",
      "text/plain": [
       "<Figure size 864x576 with 1 Axes>"
      ]
     },
     "metadata": {
      "needs_background": "light"
     },
     "output_type": "display_data"
    }
   ],
   "source": [
    "Actual=[]\n",
    "Home=Away=Draw=0\n",
    "for i in y_test:\n",
    "    if(i=='H'):\n",
    "        Home+=1;\n",
    "    elif(i=='A'):\n",
    "        Away+=1;\n",
    "    else:\n",
    "        Draw+=1;\n",
    "Actual.append(Home)\n",
    "Actual.append(Away)\n",
    "Actual.append(Draw)\n",
    "\n",
    "Predicted=[]\n",
    "PHome=PAway=PDraw=0\n",
    "for i in y_predicted:\n",
    "    if(i=='H'):\n",
    "        PHome+=1;\n",
    "    elif(i=='A'):\n",
    "        PAway+=1;\n",
    "    else:\n",
    "        PDraw+=1;\n",
    "Predicted.append(PHome)\n",
    "Predicted.append(PAway)\n",
    "Predicted.append(PDraw)\n",
    "\n",
    "# set width of bar \n",
    "barWidth = 0.25\n",
    "fig = plt.subplots(figsize =(12, 8)) \n",
    "\n",
    "# Set position of bar on X axis \n",
    "br1 = np.arange(3) \n",
    "br2 = [x + barWidth for x in br1] \n",
    "\n",
    "# Make the plot \n",
    "plt.bar(br1, Actual, color ='b', width = barWidth, \n",
    "        edgecolor ='grey', label ='Actual') \n",
    "plt.bar(br2, Predicted, color ='r', width = barWidth, \n",
    "        edgecolor ='grey', label ='Predicted') \n",
    "\n",
    "# Adding Xticks\n",
    "plt.xlabel('XG Boost Class A Features alone', fontweight ='bold') \n",
    "plt.ylabel('', fontweight ='bold') \n",
    "plt.xticks([r + barWidth/2 for r in range(len(Actual))], \n",
    "           ['Home Wins', 'Away Wins', 'Draw']) \n",
    "plt.legend(loc=\"upper right\")\n",
    "plt.show()"
   ]
  },
  {
   "cell_type": "markdown",
   "metadata": {
    "id": "zPZXoGZyXxYj"
   },
   "source": [
    "## **Using Class B Features**"
   ]
  },
  {
   "cell_type": "code",
   "execution_count": 9,
   "metadata": {
    "id": "5GQJ_RhEX0w4"
   },
   "outputs": [],
   "source": [
    "classBFeatures=['FormDifferential', 'StDifferential', 'STKPP', 'GKPP', 'CKPP', \n",
    "                'RelAttack', 'RelMidField', 'RelDefence', 'RelOverall', \n",
    "                'GDDifferential', 'StWeightedDifferential']\n",
    "\n",
    "x_train_B = x_train[classBFeatures]\n",
    "x_test_B = x_test[classBFeatures]                "
   ]
  },
  {
   "cell_type": "markdown",
   "metadata": {
    "id": "ZWgE3x1UYHRx"
   },
   "source": [
    "Initial Cross Val Accuracy"
   ]
  },
  {
   "cell_type": "code",
   "execution_count": 10,
   "metadata": {
    "id": "ZtmqbfPuYGRC"
   },
   "outputs": [
    {
     "name": "stdout",
     "output_type": "stream",
     "text": [
      "Validation Accuracy: 0.4792974458261286\n"
     ]
    }
   ],
   "source": [
    "xgb_clf = xgb.XGBClassifier()\n",
    "cv_scores = cross_val_score(xgb_clf, x_train_B, y_train, cv = 10)\n",
    "print('Validation Accuracy: ' + str(cv_scores.mean()))"
   ]
  },
  {
   "cell_type": "markdown",
   "metadata": {
    "id": "yw6UZGG_YNi3"
   },
   "source": [
    "Test Accuracy"
   ]
  },
  {
   "cell_type": "code",
   "execution_count": 11,
   "metadata": {
    "id": "yndsMEEVYPze"
   },
   "outputs": [
    {
     "name": "stdout",
     "output_type": "stream",
     "text": [
      "Test Accuracy: 0.5328125\n"
     ]
    }
   ],
   "source": [
    "xgb_clf.fit(x_train_B, y_train)\n",
    "y_predicted = xgb_clf.predict(x_test_B)\n",
    "print (\"Test Accuracy: \" + str(accuracy_score(y_test, y_predicted)))"
   ]
  },
  {
   "cell_type": "markdown",
   "metadata": {
    "id": "0qZuZXr3YeiS"
   },
   "source": [
    "Using Grid Search"
   ]
  },
  {
   "cell_type": "code",
   "execution_count": 11,
   "metadata": {
    "id": "cmbq0JZGYWha"
   },
   "outputs": [
    {
     "name": "stderr",
     "output_type": "stream",
     "text": [
      "D:\\Tools\\Anaconda\\lib\\site-packages\\sklearn\\model_selection\\_split.py:1978: FutureWarning: The default value of cv will change from 3 to 5 in version 0.22. Specify it explicitly to silence this warning.\n",
      "  warnings.warn(CV_WARNING, FutureWarning)\n",
      "[Parallel(n_jobs=-1)]: Using backend LokyBackend with 8 concurrent workers.\n"
     ]
    },
    {
     "name": "stdout",
     "output_type": "stream",
     "text": [
      "Fitting 3 folds for each of 2400 candidates, totalling 7200 fits\n"
     ]
    },
    {
     "name": "stderr",
     "output_type": "stream",
     "text": [
      "[Parallel(n_jobs=-1)]: Done  25 tasks      | elapsed:    9.1s\n",
      "[Parallel(n_jobs=-1)]: Done 146 tasks      | elapsed:   35.1s\n",
      "[Parallel(n_jobs=-1)]: Done 349 tasks      | elapsed:  2.4min\n",
      "[Parallel(n_jobs=-1)]: Done 632 tasks      | elapsed:  4.0min\n",
      "[Parallel(n_jobs=-1)]: Done 997 tasks      | elapsed:  6.4min\n",
      "[Parallel(n_jobs=-1)]: Done 1442 tasks      | elapsed:  9.3min\n",
      "[Parallel(n_jobs=-1)]: Done 1969 tasks      | elapsed: 12.5min\n",
      "[Parallel(n_jobs=-1)]: Done 2576 tasks      | elapsed: 16.9min\n",
      "[Parallel(n_jobs=-1)]: Done 3265 tasks      | elapsed: 21.2min\n",
      "[Parallel(n_jobs=-1)]: Done 4034 tasks      | elapsed: 26.3min\n",
      "[Parallel(n_jobs=-1)]: Done 4885 tasks      | elapsed: 31.7min\n",
      "[Parallel(n_jobs=-1)]: Done 5816 tasks      | elapsed: 37.8min\n",
      "[Parallel(n_jobs=-1)]: Done 6829 tasks      | elapsed: 45.0min\n",
      "[Parallel(n_jobs=-1)]: Done 7200 out of 7200 | elapsed: 47.3min finished\n"
     ]
    },
    {
     "data": {
      "text/plain": [
       "GridSearchCV(cv='warn', error_score='raise-deprecating',\n",
       "             estimator=XGBClassifier(base_score=0.5, booster='gbtree',\n",
       "                                     colsample_bylevel=1, colsample_bynode=1,\n",
       "                                     colsample_bytree=1, gamma=0, gpu_id=-1,\n",
       "                                     importance_type='gain',\n",
       "                                     interaction_constraints='',\n",
       "                                     learning_rate=0.300000012,\n",
       "                                     max_delta_step=0, max_depth=6,\n",
       "                                     min_child_weight=1, missing=nan,\n",
       "                                     monotone_constraints='()',\n",
       "                                     n...\n",
       "                                     tree_method='exact', validate_parameters=1,\n",
       "                                     verbosity=None),\n",
       "             iid='warn', n_jobs=-1,\n",
       "             param_grid={'gamma': [0.01, 0.05, 0.1, 0.2, 0.5],\n",
       "                         'learning_rate': [0.01, 0.025, 0.05, 0.1],\n",
       "                         'max_depth': [3, 6, 9, 12, 15, 18],\n",
       "                         'objective': ['multi:softprob'],\n",
       "                         'reg_alpha': [0.05, 0.1, 0.2, 10],\n",
       "                         'reg_lambda': [0.01, 0.075, 0.1, 0.2, 10]},\n",
       "             pre_dispatch='2*n_jobs', refit=True, return_train_score=False,\n",
       "             scoring='accuracy', verbose=2)"
      ]
     },
     "execution_count": 11,
     "metadata": {},
     "output_type": "execute_result"
    }
   ],
   "source": [
    "parameters = { 'learning_rate' : [0.01, 0.025, 0.05, 0.1],\n",
    "               'gamma' : [0.01, 0.05, 0.1, 0.2, 0.5],\n",
    "               'reg_lambda' : [0.01, 0.075, 0.1, 0.2, 10], \n",
    "               'reg_alpha' : [0.05, 0.1, 0.2, 10], \n",
    "               'max_depth' : [3, 6, 9, 12, 15, 18],\n",
    "               'objective' : ['multi:softprob']\n",
    "              }\n",
    "grid_rf = GridSearchCV(xgb_clf, parameters, n_jobs = -1, verbose = 2, scoring = 'accuracy')\n",
    "grid_rf.fit(x_train_B, y_train)"
   ]
  },
  {
   "cell_type": "code",
   "execution_count": 12,
   "metadata": {
    "id": "pDbP0mqFPUKw"
   },
   "outputs": [
    {
     "name": "stdout",
     "output_type": "stream",
     "text": [
      "Best Score: 0.5365992594702363\n",
      "Best Set of Estimators: XGBClassifier(base_score=0.5, booster='gbtree', colsample_bylevel=1,\n",
      "              colsample_bynode=1, colsample_bytree=1, gamma=0.2, gpu_id=-1,\n",
      "              importance_type='gain', interaction_constraints='',\n",
      "              learning_rate=0.025, max_delta_step=0, max_depth=3,\n",
      "              min_child_weight=1, missing=nan, monotone_constraints='()',\n",
      "              n_estimators=100, n_jobs=0, num_parallel_tree=1,\n",
      "              objective='multi:softprob', random_state=0, reg_alpha=10,\n",
      "              reg_lambda=10, scale_pos_weight=None, subsample=1,\n",
      "              tree_method='exact', validate_parameters=1, verbosity=None)\n"
     ]
    }
   ],
   "source": [
    "print('Best Score: ' + str(grid_rf.best_score_))\n",
    "print('Best Set of Estimators: ' + str(grid_rf.best_estimator_))"
   ]
  },
  {
   "cell_type": "markdown",
   "metadata": {
    "id": "C2plJycnYnze"
   },
   "source": [
    "Using this set of params to tune the model and Class B Features to train it"
   ]
  },
  {
   "cell_type": "code",
   "execution_count": 12,
   "metadata": {
    "id": "KCpObz7hY1Wo"
   },
   "outputs": [
    {
     "name": "stdout",
     "output_type": "stream",
     "text": [
      "Test Accuracy: 0.5015625\n",
      "[[146  44 118]\n",
      " [ 14 106  54]\n",
      " [ 42  47  69]]\n",
      "              precision    recall  f1-score   support\n",
      "\n",
      "           H       0.72      0.47      0.57       308\n",
      "           A       0.54      0.61      0.57       174\n",
      "           D       0.29      0.44      0.35       158\n",
      "\n",
      "    accuracy                           0.50       640\n",
      "   macro avg       0.52      0.51      0.50       640\n",
      "weighted avg       0.56      0.50      0.52       640\n",
      "\n"
     ]
    }
   ],
   "source": [
    "xgb_clf = xgb.XGBClassifier(base_score=0.5, booster='gbtree', colsample_bylevel=1,\n",
    "              colsample_bynode=1, colsample_bytree=1, gamma=0.2, gpu_id=-1,\n",
    "              importance_type='gain', interaction_constraints='',\n",
    "              learning_rate=0.025, max_delta_step=0, max_depth=3,\n",
    "              min_child_weight=1, monotone_constraints='()',\n",
    "              n_estimators=100, n_jobs=0, num_parallel_tree=1,\n",
    "              objective='multi:softprob', random_state=0, reg_alpha=10,\n",
    "              reg_lambda=10, scale_pos_weight=None, subsample=1,\n",
    "              tree_method='exact', validate_parameters=1, verbosity=None)\n",
    "\n",
    "unique_elements, counts_elements = np.unique(y_train, return_counts=True)\n",
    "n_instances = dict(zip(unique_elements, counts_elements))\n",
    "wt_vec = [0]*len(y_train)\n",
    "least = min(counts_elements)\n",
    "for i in range(0, len(y_train)):\n",
    "    wt_vec[i] = (least / n_instances[y_train[i]])\n",
    "\n",
    "xgb_clf.fit(x_train_B, y_train, sample_weight = wt_vec)\n",
    "\n",
    "y_predicted = xgb_clf.predict(x_test_B)\n",
    "print('Test Accuracy: ' + str(accuracy_score(y_test, y_predicted)))\n",
    "\n",
    "labels=['H','A','D']\n",
    "confusionMatrix = confusion_matrix(y_test, y_predicted, labels)\n",
    "print(confusionMatrix)\n",
    "print(classification_report(y_test, y_predicted, labels))"
   ]
  },
  {
   "cell_type": "markdown",
   "metadata": {},
   "source": [
    "# RPS Value"
   ]
  },
  {
   "cell_type": "code",
   "execution_count": 13,
   "metadata": {},
   "outputs": [
    {
     "name": "stdout",
     "output_type": "stream",
     "text": [
      "0.20014997412510954\n"
     ]
    }
   ],
   "source": [
    "prob_pred = xgb_clf.predict_proba(x_test_B)\n",
    "\n",
    "def RPS(p, e, r):\n",
    "    m = dict(zip(np.unique(y_predicted), [0, 1, 2]))\n",
    "    n = len(p)\n",
    "    rps = []\n",
    "    for x in range(n):        \n",
    "        sum1=0\n",
    "        \n",
    "        for i in range(0, r):            \n",
    "            sum2=0\n",
    "            obs = [0]*r\n",
    "            obs[m[e[x]]] = 1\n",
    "            \n",
    "            for j in range(0, i):\n",
    "                sum2 += p[x][j]-obs[j]\n",
    "                \n",
    "            sum1 += sum2**2            \n",
    "        rps.append(sum1/(r-1))\n",
    "        \n",
    "    #print(rps)\n",
    "\n",
    "    print(np.mean(rps))\n",
    "RPS(prob_pred, y_test, 3)"
   ]
  },
  {
   "cell_type": "markdown",
   "metadata": {},
   "source": [
    "Graphs"
   ]
  },
  {
   "cell_type": "code",
   "execution_count": 14,
   "metadata": {},
   "outputs": [
    {
     "data": {
      "image/png": "[encoded data removed]",
      "text/plain": [
       "<Figure size 864x576 with 1 Axes>"
      ]
     },
     "metadata": {
      "needs_background": "light"
     },
     "output_type": "display_data"
    }
   ],
   "source": [
    "Actual=[]\n",
    "Home=Away=Draw=0\n",
    "for i in y_test:\n",
    "    if(i=='H'):\n",
    "        Home+=1;\n",
    "    elif(i=='A'):\n",
    "        Away+=1;\n",
    "    else:\n",
    "        Draw+=1;\n",
    "Actual.append(Home)\n",
    "Actual.append(Away)\n",
    "Actual.append(Draw)\n",
    "\n",
    "Predicted=[]\n",
    "PHome=PAway=PDraw=0\n",
    "for i in y_predicted:\n",
    "    if(i=='H'):\n",
    "        PHome+=1;\n",
    "    elif(i=='A'):\n",
    "        PAway+=1;\n",
    "    else:\n",
    "        PDraw+=1;\n",
    "Predicted.append(PHome)\n",
    "Predicted.append(PAway)\n",
    "Predicted.append(PDraw)\n",
    "\n",
    "# set width of bar \n",
    "barWidth = 0.25\n",
    "fig = plt.subplots(figsize =(12, 8)) \n",
    "\n",
    "# Set position of bar on X axis \n",
    "br1 = np.arange(3) \n",
    "br2 = [x + barWidth for x in br1] \n",
    "\n",
    "# Make the plot \n",
    "plt.bar(br1, Actual, color ='b', width = barWidth, \n",
    "        edgecolor ='grey', label ='Actual') \n",
    "plt.bar(br2, Predicted, color ='r', width = barWidth, \n",
    "        edgecolor ='grey', label ='Predicted') \n",
    "\n",
    "# Adding Xticks\n",
    "plt.xlabel('XG Boost Class B Features alone', fontweight ='bold') \n",
    "plt.ylabel('', fontweight ='bold') \n",
    "plt.xticks([r + barWidth/2 for r in range(len(Actual))], \n",
    "           ['Home Wins', 'Away Wins', 'Draw']) \n",
    "plt.legend(loc=\"upper right\")\n",
    "plt.show()"
   ]
  },
  {
   "cell_type": "code",
   "execution_count": null,
   "metadata": {},
   "outputs": [],
   "source": []
  }
 ],
 "metadata": {
  "kernelspec": {
   "display_name": "Python 3",
   "language": "python",
   "name": "python3"
  },
  "language_info": {
   "codemirror_mode": {
    "name": "ipython",
    "version": 3
   },
   "file_extension": ".py",
   "mimetype": "text/x-python",
   "name": "python",
   "nbconvert_exporter": "python",
   "pygments_lexer": "ipython3",
   "version": "3.7.4"
  }
 },
 "nbformat": 4,
 "nbformat_minor": 2
}
