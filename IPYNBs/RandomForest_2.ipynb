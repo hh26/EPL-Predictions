{
 "cells": [
  {
   "cell_type": "code",
   "execution_count": 1,
   "metadata": {
    "id": "BQ4c861CJIEf"
   },
   "outputs": [],
   "source": [
    "import pandas as pd\n",
    "import matplotlib.pyplot as plt\n",
    "import numpy as np\n",
    "import seaborn as sns\n",
    "from datetime import datetime as dt\n",
    "import itertools\n",
    "from sklearn import metrics\n",
    "from sklearn.metrics import precision_recall_fscore_support as score\n",
    "from sklearn.metrics import confusion_matrix\n",
    "from sklearn.model_selection import train_test_split\n",
    "from sklearn.metrics import accuracy_score\n",
    "from sklearn.metrics import classification_report\n",
    "from sklearn.ensemble import RandomForestClassifier\n",
    "from sklearn.model_selection import cross_val_score\n",
    "from sklearn.model_selection import GridSearchCV"
   ]
  },
  {
   "cell_type": "code",
   "execution_count": 2,
   "metadata": {
    "id": "ednccgzrKhry"
   },
   "outputs": [],
   "source": [
    "x_train = pd.read_csv('XTRAIN2.csv')\n",
    "x_test = pd.read_csv('XTEST2.csv')\n",
    "y_train = pd.read_csv('YTRAIN2.csv')\n",
    "y_test = pd.read_csv('YTEST2.csv')\n",
    "\n",
    "y_test = y_test.values.ravel()\n",
    "y_train = y_train.values.ravel()"
   ]
  },
  {
   "cell_type": "markdown",
   "metadata": {
    "id": "T9FKfT1HLaMV"
   },
   "source": [
    "## **Using Class A Features**\n"
   ]
  },
  {
   "cell_type": "code",
   "execution_count": 3,
   "metadata": {
    "id": "HSwuDE7yLvCf"
   },
   "outputs": [],
   "source": [
    "classAFeatures=['HForm', 'AForm', 'HSt', 'ASt', 'HSTKPP', 'ASTKPP', 'HGKPP', 'AGKPP', 'HCKPP', 'ACKPP', \n",
    "                'HAttack', 'AAttack', 'HMidField', 'AMidField', 'HDefence', 'ADefence', 'HOverall', 'AOverall', \n",
    "                'HTGD', 'ATGD', 'HStWeighted', 'AStWeighted']\n",
    "\n",
    "x_train_A = x_train[classAFeatures]\n",
    "x_test_A = x_test[classAFeatures]                "
   ]
  },
  {
   "cell_type": "markdown",
   "metadata": {
    "id": "kWpUxQhqNVLa"
   },
   "source": [
    "Initial Cross Val Accuracy"
   ]
  },
  {
   "cell_type": "code",
   "execution_count": 4,
   "metadata": {
    "colab": {
     "base_uri": "https://localhost:8080/"
    },
    "id": "OcILPJBmNqyI",
    "outputId": "42fd89a7-d85b-4505-d15f-b7b9ca69b450"
   },
   "outputs": [
    {
     "name": "stdout",
     "output_type": "stream",
     "text": [
      "Validation Accuracy: 0.5166254368860601\n"
     ]
    }
   ],
   "source": [
    "rf_clf = RandomForestClassifier(oob_score = True, n_estimators=150)\n",
    "cv_scores = cross_val_score(rf_clf, x_train_A, y_train, cv = 10)\n",
    "print('Validation Accuracy: ' + str(cv_scores.mean()))"
   ]
  },
  {
   "cell_type": "markdown",
   "metadata": {
    "id": "w5OraEVgOuRN"
   },
   "source": [
    "Test Accuracy"
   ]
  },
  {
   "cell_type": "code",
   "execution_count": 5,
   "metadata": {
    "colab": {
     "base_uri": "https://localhost:8080/"
    },
    "id": "fgFwwNmJOyA1",
    "outputId": "f755abbf-7c71-42aa-a1a3-a4162c1874ad"
   },
   "outputs": [
    {
     "name": "stdout",
     "output_type": "stream",
     "text": [
      "Test Accuracy: 0.55\n"
     ]
    }
   ],
   "source": [
    "rf_clf.fit(x_train_A, y_train)\n",
    "y_predicted = rf_clf.predict(x_test_A)\n",
    "print (\"Test Accuracy: \" + str(accuracy_score(y_test, y_predicted)))"
   ]
  },
  {
   "cell_type": "markdown",
   "metadata": {
    "id": "qgfZzBRPQP9g"
   },
   "source": [
    "Using GridSearch"
   ]
  },
  {
   "cell_type": "code",
   "execution_count": 17,
   "metadata": {
    "colab": {
     "base_uri": "https://localhost:8080/",
     "height": 622
    },
    "id": "qEu2Um-tQUu1",
    "outputId": "85a87bf3-ee0a-428a-ca1a-7394af887150"
   },
   "outputs": [
    {
     "name": "stderr",
     "output_type": "stream",
     "text": [
      "D:\\Tools\\Anaconda\\lib\\site-packages\\sklearn\\model_selection\\_split.py:1978: FutureWarning: The default value of cv will change from 3 to 5 in version 0.22. Specify it explicitly to silence this warning.\n",
      "  warnings.warn(CV_WARNING, FutureWarning)\n",
      "[Parallel(n_jobs=-1)]: Using backend LokyBackend with 8 concurrent workers.\n"
     ]
    },
    {
     "name": "stdout",
     "output_type": "stream",
     "text": [
      "Fitting 3 folds for each of 720 candidates, totalling 2160 fits\n"
     ]
    },
    {
     "name": "stderr",
     "output_type": "stream",
     "text": [
      "[Parallel(n_jobs=-1)]: Done  25 tasks      | elapsed:    9.0s\n",
      "[Parallel(n_jobs=-1)]: Done 146 tasks      | elapsed:   25.6s\n",
      "[Parallel(n_jobs=-1)]: Done 349 tasks      | elapsed:   52.9s\n",
      "[Parallel(n_jobs=-1)]: Done 632 tasks      | elapsed:  1.8min\n",
      "[Parallel(n_jobs=-1)]: Done 997 tasks      | elapsed:  3.1min\n",
      "[Parallel(n_jobs=-1)]: Done 1442 tasks      | elapsed:  4.9min\n",
      "[Parallel(n_jobs=-1)]: Done 1969 tasks      | elapsed:  7.5min\n",
      "[Parallel(n_jobs=-1)]: Done 2160 out of 2160 | elapsed:  8.3min finished\n"
     ]
    },
    {
     "data": {
      "text/plain": [
       "GridSearchCV(cv='warn', error_score='raise-deprecating',\n",
       "             estimator=RandomForestClassifier(bootstrap=True,\n",
       "                                              class_weight='balanced',\n",
       "                                              criterion='gini', max_depth=10,\n",
       "                                              max_features='log2',\n",
       "                                              max_leaf_nodes=None,\n",
       "                                              min_impurity_decrease=0.0,\n",
       "                                              min_impurity_split=None,\n",
       "                                              min_samples_leaf=2,\n",
       "                                              min_samples_split=5,\n",
       "                                              min_weight_fraction_leaf=0.0,\n",
       "                                              n_estimators=400, n_jobs=None,\n",
       "                                              oob_sc...\n",
       "                                              verbose=0, warm_start=False),\n",
       "             iid='warn', n_jobs=-1,\n",
       "             param_grid={'class_weight': ['balanced'], 'criterion': ['gini'],\n",
       "                         'max_depth': [2, 4, 6, 8, 10, 12],\n",
       "                         'max_features': ['log2'],\n",
       "                         'min_samples_leaf': [2, 5, 10],\n",
       "                         'min_samples_split': [2, 5, 10, 15, 100],\n",
       "                         'n_estimators': [50, 100, 150, 200, 250, 300, 350,\n",
       "                                          400]},\n",
       "             pre_dispatch='2*n_jobs', refit=True, return_train_score=False,\n",
       "             scoring='accuracy', verbose=2)"
      ]
     },
     "execution_count": 17,
     "metadata": {},
     "output_type": "execute_result"
    }
   ],
   "source": [
    "parameters = { 'n_estimators' : [50, 100, 150, 200, 250, 300, 350, 400],\n",
    "               'criterion' : ['gini'],\n",
    "               'max_features' : ['log2'],\n",
    "               'max_depth' : [2, 4, 6, 8, 10, 12],\n",
    "               'min_samples_split' : [2, 5, 10, 15, 100],\n",
    "               'min_samples_leaf' : [2, 5, 10],\n",
    "               'class_weight' : ['balanced']\n",
    "              }\n",
    "grid_rf = GridSearchCV(rf_clf, parameters, n_jobs = -1, verbose = 2, scoring = 'accuracy')\n",
    "grid_rf.fit(x_train_A, y_train)"
   ]
  },
  {
   "cell_type": "code",
   "execution_count": 18,
   "metadata": {
    "colab": {
     "base_uri": "https://localhost:8080/",
     "height": 178
    },
    "id": "ggflOC4gPHJe",
    "outputId": "9c82ae72-245e-4849-b864-5aeb5564941e"
   },
   "outputs": [
    {
     "name": "stdout",
     "output_type": "stream",
     "text": [
      "Best Score: 0.5189404727997722\n",
      "Best Set of Estimators: RandomForestClassifier(bootstrap=True, class_weight='balanced',\n",
      "                       criterion='gini', max_depth=12, max_features='log2',\n",
      "                       max_leaf_nodes=None, min_impurity_decrease=0.0,\n",
      "                       min_impurity_split=None, min_samples_leaf=2,\n",
      "                       min_samples_split=5, min_weight_fraction_leaf=0.0,\n",
      "                       n_estimators=400, n_jobs=None, oob_score=True,\n",
      "                       random_state=20, verbose=0, warm_start=False)\n"
     ]
    }
   ],
   "source": [
    "print('Best Score: ' + str(grid_rf.best_score_))\n",
    "print('Best Set of Estimators: ' + str(grid_rf.best_estimator_))"
   ]
  },
  {
   "cell_type": "markdown",
   "metadata": {
    "id": "1vCS8X8KUJ1b"
   },
   "source": [
    "Using this set of params to tune the model"
   ]
  },
  {
   "cell_type": "code",
   "execution_count": 6,
   "metadata": {
    "colab": {
     "base_uri": "https://localhost:8080/",
     "height": 229
    },
    "id": "l2UVowriUOYq",
    "outputId": "59310577-2844-42cb-9194-d5d619f4a8de"
   },
   "outputs": [
    {
     "name": "stdout",
     "output_type": "stream",
     "text": [
      "Test Accuracy: 0.565625\n",
      "[[217  54  37]\n",
      " [ 45 112  17]\n",
      " [ 83  42  33]]\n",
      "              precision    recall  f1-score   support\n",
      "\n",
      "           H       0.63      0.70      0.66       308\n",
      "           A       0.54      0.64      0.59       174\n",
      "           D       0.38      0.21      0.27       158\n",
      "\n",
      "    accuracy                           0.57       640\n",
      "   macro avg       0.52      0.52      0.51       640\n",
      "weighted avg       0.54      0.57      0.55       640\n",
      "\n"
     ]
    }
   ],
   "source": [
    "rf_clf = RandomForestClassifier(bootstrap=True, class_weight='balanced',\n",
    "                       criterion='gini', max_depth=10, max_features='log2',\n",
    "                       max_leaf_nodes=None, min_impurity_decrease=0.0,\n",
    "                       min_impurity_split=None, min_samples_leaf=2,\n",
    "                       min_samples_split=5, min_weight_fraction_leaf=0.0,\n",
    "                       n_estimators=400, n_jobs=None, oob_score=True,\n",
    "                       random_state=20, verbose=0, warm_start=False)\n",
    "\n",
    "rf_clf.fit(x_train_A, y_train)\n",
    "\n",
    "y_predicted = rf_clf.predict(x_test_A)\n",
    "print('Test Accuracy: ' + str(accuracy_score(y_test, y_predicted)))\n",
    "\n",
    "labels=['H','A','D']\n",
    "confusionMatrix = confusion_matrix(y_test, y_predicted, labels)\n",
    "print(confusionMatrix)\n",
    "print(classification_report(y_test, y_predicted, labels))"
   ]
  },
  {
   "cell_type": "markdown",
   "metadata": {},
   "source": [
    "# RPS Value"
   ]
  },
  {
   "cell_type": "code",
   "execution_count": 7,
   "metadata": {},
   "outputs": [
    {
     "name": "stdout",
     "output_type": "stream",
     "text": [
      "0.18762211946856938\n"
     ]
    }
   ],
   "source": [
    "prob_pred = rf_clf.predict_proba(x_test_A)\n",
    "\n",
    "def RPS(p, e, r):\n",
    "    m = dict(zip(np.unique(y_predicted), [0, 1, 2]))\n",
    "    n = len(p)\n",
    "    rps = []\n",
    "    for x in range(n):        \n",
    "        sum1=0\n",
    "        \n",
    "        for i in range(0, r):            \n",
    "            sum2=0\n",
    "            obs = [0]*r\n",
    "            obs[m[e[x]]] = 1\n",
    "            \n",
    "            for j in range(0, i):\n",
    "                sum2 += p[x][j]-obs[j]\n",
    "                \n",
    "            sum1 += sum2**2            \n",
    "        rps.append(sum1/(r-1))\n",
    "        \n",
    "    #print(rps)\n",
    "\n",
    "    print(np.mean(rps))\n",
    "RPS(prob_pred, y_test, 3)"
   ]
  },
  {
   "cell_type": "markdown",
   "metadata": {},
   "source": [
    "Graphs"
   ]
  },
  {
   "cell_type": "code",
   "execution_count": 8,
   "metadata": {},
   "outputs": [
    {
     "data": {
      "image/png": "[encoded data removed]",
      "text/plain": [
       "<Figure size 864x576 with 1 Axes>"
      ]
     },
     "metadata": {
      "needs_background": "light"
     },
     "output_type": "display_data"
    }
   ],
   "source": [
    "Actual=[]\n",
    "Home=Away=Draw=0\n",
    "for i in y_test:\n",
    "    if(i=='H'):\n",
    "        Home+=1;\n",
    "    elif(i=='A'):\n",
    "        Away+=1;\n",
    "    else:\n",
    "        Draw+=1;\n",
    "Actual.append(Home)\n",
    "Actual.append(Away)\n",
    "Actual.append(Draw)\n",
    "\n",
    "Predicted=[]\n",
    "PHome=PAway=PDraw=0\n",
    "for i in y_predicted:\n",
    "    if(i=='H'):\n",
    "        PHome+=1;\n",
    "    elif(i=='A'):\n",
    "        PAway+=1;\n",
    "    else:\n",
    "        PDraw+=1;\n",
    "Predicted.append(PHome)\n",
    "Predicted.append(PAway)\n",
    "Predicted.append(PDraw)\n",
    "\n",
    "# set width of bar \n",
    "barWidth = 0.25\n",
    "fig = plt.subplots(figsize =(12, 8)) \n",
    "\n",
    "# Set position of bar on X axis \n",
    "br1 = np.arange(3) \n",
    "br2 = [x + barWidth for x in br1] \n",
    "\n",
    "# Make the plot \n",
    "plt.bar(br1, Actual, color ='b', width = barWidth, \n",
    "        edgecolor ='grey', label ='Actual') \n",
    "plt.bar(br2, Predicted, color ='r', width = barWidth, \n",
    "        edgecolor ='grey', label ='Predicted') \n",
    "\n",
    "# Adding Xticks\n",
    "plt.xlabel('Random Forest Class A features alone', fontweight ='bold') \n",
    "plt.ylabel('', fontweight ='bold') \n",
    "plt.xticks([r + barWidth/2 for r in range(len(Actual))], \n",
    "           ['Home Wins', 'Away Wins', 'Draw']) \n",
    "plt.legend(loc=\"upper right\")\n",
    "plt.show()"
   ]
  },
  {
   "cell_type": "markdown",
   "metadata": {
    "id": "zPZXoGZyXxYj"
   },
   "source": [
    "## **Using Class B Features**"
   ]
  },
  {
   "cell_type": "code",
   "execution_count": 9,
   "metadata": {
    "id": "5GQJ_RhEX0w4"
   },
   "outputs": [],
   "source": [
    "classBFeatures=['FormDifferential', 'StDifferential', 'STKPP', 'GKPP', 'CKPP', \n",
    "                'RelAttack', 'RelMidField', 'RelDefence', 'RelOverall', \n",
    "                'GDDifferential', 'StWeightedDifferential']\n",
    "\n",
    "x_train_B = x_train[classBFeatures]\n",
    "x_test_B = x_test[classBFeatures]                "
   ]
  },
  {
   "cell_type": "markdown",
   "metadata": {
    "id": "ZWgE3x1UYHRx"
   },
   "source": [
    "Initial Cross Val Accuracy"
   ]
  },
  {
   "cell_type": "code",
   "execution_count": 10,
   "metadata": {
    "id": "ZtmqbfPuYGRC"
   },
   "outputs": [
    {
     "name": "stdout",
     "output_type": "stream",
     "text": [
      "Validation Accuracy: 0.5137869973510909\n"
     ]
    }
   ],
   "source": [
    "rf_clf = RandomForestClassifier(oob_score = True, n_estimators=150)\n",
    "cv_scores = cross_val_score(rf_clf, x_train_B, y_train, cv = 10)\n",
    "print('Validation Accuracy: ' + str(cv_scores.mean()))"
   ]
  },
  {
   "cell_type": "markdown",
   "metadata": {
    "id": "yw6UZGG_YNi3"
   },
   "source": [
    "Test Accuracy"
   ]
  },
  {
   "cell_type": "code",
   "execution_count": 11,
   "metadata": {
    "id": "yndsMEEVYPze"
   },
   "outputs": [
    {
     "name": "stdout",
     "output_type": "stream",
     "text": [
      "Test Accuracy: 0.5546875\n"
     ]
    }
   ],
   "source": [
    "rf_clf.fit(x_train_B, y_train)\n",
    "y_predicted = rf_clf.predict(x_test_B)\n",
    "print (\"Test Accuracy: \" + str(accuracy_score(y_test, y_predicted)))"
   ]
  },
  {
   "cell_type": "markdown",
   "metadata": {
    "id": "0qZuZXr3YeiS"
   },
   "source": [
    "Using Grid Search"
   ]
  },
  {
   "cell_type": "code",
   "execution_count": 43,
   "metadata": {
    "id": "cmbq0JZGYWha"
   },
   "outputs": [
    {
     "name": "stderr",
     "output_type": "stream",
     "text": [
      "D:\\Tools\\Anaconda\\lib\\site-packages\\sklearn\\model_selection\\_split.py:1978: FutureWarning: The default value of cv will change from 3 to 5 in version 0.22. Specify it explicitly to silence this warning.\n",
      "  warnings.warn(CV_WARNING, FutureWarning)\n",
      "[Parallel(n_jobs=-1)]: Using backend LokyBackend with 8 concurrent workers.\n"
     ]
    },
    {
     "name": "stdout",
     "output_type": "stream",
     "text": [
      "Fitting 3 folds for each of 720 candidates, totalling 2160 fits\n"
     ]
    },
    {
     "name": "stderr",
     "output_type": "stream",
     "text": [
      "[Parallel(n_jobs=-1)]: Done  25 tasks      | elapsed:    2.4s\n",
      "[Parallel(n_jobs=-1)]: Done 146 tasks      | elapsed:   13.9s\n",
      "[Parallel(n_jobs=-1)]: Done 349 tasks      | elapsed:   33.1s\n",
      "[Parallel(n_jobs=-1)]: Done 632 tasks      | elapsed:  1.1min\n",
      "[Parallel(n_jobs=-1)]: Done 997 tasks      | elapsed:  1.9min\n",
      "[Parallel(n_jobs=-1)]: Done 1442 tasks      | elapsed:  3.0min\n",
      "[Parallel(n_jobs=-1)]: Done 1969 tasks      | elapsed:  4.6min\n",
      "[Parallel(n_jobs=-1)]: Done 2160 out of 2160 | elapsed:  5.1min finished\n"
     ]
    },
    {
     "data": {
      "text/plain": [
       "GridSearchCV(cv='warn', error_score='raise-deprecating',\n",
       "             estimator=RandomForestClassifier(bootstrap=True,\n",
       "                                              class_weight='balanced',\n",
       "                                              criterion='gini', max_depth=12,\n",
       "                                              max_features='log2',\n",
       "                                              max_leaf_nodes=None,\n",
       "                                              min_impurity_decrease=0.0,\n",
       "                                              min_impurity_split=None,\n",
       "                                              min_samples_leaf=2,\n",
       "                                              min_samples_split=2,\n",
       "                                              min_weight_fraction_leaf=0.0,\n",
       "                                              n_estimators=400, n_jobs=None,\n",
       "                                              oob_sc...\n",
       "                                              verbose=0, warm_start=False),\n",
       "             iid='warn', n_jobs=-1,\n",
       "             param_grid={'class_weight': ['balanced'], 'criterion': ['gini'],\n",
       "                         'max_depth': [2, 4, 6, 8, 10, 12],\n",
       "                         'max_features': ['log2'],\n",
       "                         'min_samples_leaf': [2, 5, 10],\n",
       "                         'min_samples_split': [2, 5, 10, 15, 100],\n",
       "                         'n_estimators': [50, 100, 150, 200, 250, 300, 350,\n",
       "                                          400]},\n",
       "             pre_dispatch='2*n_jobs', refit=True, return_train_score=False,\n",
       "             scoring='accuracy', verbose=2)"
      ]
     },
     "execution_count": 43,
     "metadata": {},
     "output_type": "execute_result"
    }
   ],
   "source": [
    "parameters = { 'n_estimators' : [50, 100, 150, 200, 250, 300, 350, 400],\n",
    "               'criterion' : ['gini'],\n",
    "               'max_features' : ['log2'],\n",
    "               'max_depth' : [2, 4, 6, 8, 10, 12],\n",
    "               'min_samples_split' : [2, 5, 10, 15, 100],\n",
    "               'min_samples_leaf' : [2, 5, 10],\n",
    "               'class_weight' : ['balanced']\n",
    "              }\n",
    "grid_rf = GridSearchCV(rf_clf, parameters, n_jobs = -1, verbose = 2, scoring = 'accuracy')\n",
    "grid_rf.fit(x_train_B, y_train)"
   ]
  },
  {
   "cell_type": "code",
   "execution_count": 44,
   "metadata": {
    "id": "pDbP0mqFPUKw"
   },
   "outputs": [
    {
     "name": "stdout",
     "output_type": "stream",
     "text": [
      "Best Score: 0.5152378239817715\n",
      "Best Set of Estimators: RandomForestClassifier(bootstrap=True, class_weight='balanced',\n",
      "                       criterion='gini', max_depth=12, max_features='log2',\n",
      "                       max_leaf_nodes=None, min_impurity_decrease=0.0,\n",
      "                       min_impurity_split=None, min_samples_leaf=2,\n",
      "                       min_samples_split=5, min_weight_fraction_leaf=0.0,\n",
      "                       n_estimators=400, n_jobs=None, oob_score=True,\n",
      "                       random_state=20, verbose=0, warm_start=False)\n"
     ]
    }
   ],
   "source": [
    "print('Best Score: ' + str(grid_rf.best_score_))\n",
    "print('Best Set of Estimators: ' + str(grid_rf.best_estimator_))"
   ]
  },
  {
   "cell_type": "markdown",
   "metadata": {
    "id": "C2plJycnYnze"
   },
   "source": [
    "Uing this set of params to tune the model and Class B Features to train it"
   ]
  },
  {
   "cell_type": "code",
   "execution_count": 12,
   "metadata": {
    "id": "KCpObz7hY1Wo"
   },
   "outputs": [
    {
     "name": "stdout",
     "output_type": "stream",
     "text": [
      "Test Accuracy: 0.5609375\n",
      "[[191  49  68]\n",
      " [ 29 112  33]\n",
      " [ 57  45  56]]\n",
      "              precision    recall  f1-score   support\n",
      "\n",
      "           H       0.69      0.62      0.65       308\n",
      "           A       0.54      0.64      0.59       174\n",
      "           D       0.36      0.35      0.36       158\n",
      "\n",
      "    accuracy                           0.56       640\n",
      "   macro avg       0.53      0.54      0.53       640\n",
      "weighted avg       0.57      0.56      0.56       640\n",
      "\n"
     ]
    }
   ],
   "source": [
    "rf_clf = RandomForestClassifier(bootstrap=True, class_weight='balanced',\n",
    "                       criterion='gini', max_depth=12, max_features='log2',\n",
    "                       max_leaf_nodes=None, min_impurity_decrease=0.0,\n",
    "                       min_impurity_split=None, min_samples_leaf=2,\n",
    "                       min_samples_split=2, min_weight_fraction_leaf=0.0,\n",
    "                       n_estimators=400, n_jobs=None, oob_score=True,\n",
    "                       random_state=20, verbose=0, warm_start=False)\n",
    "\n",
    "rf_clf.fit(x_train_B, y_train)\n",
    "\n",
    "y_predicted = rf_clf.predict(x_test_B)\n",
    "print('Test Accuracy: ' + str(accuracy_score(y_test, y_predicted)))\n",
    "\n",
    "labels=['H','A','D']\n",
    "confusionMatrix = confusion_matrix(y_test, y_predicted, labels)\n",
    "print(confusionMatrix)\n",
    "print(classification_report(y_test, y_predicted, labels))"
   ]
  },
  {
   "cell_type": "markdown",
   "metadata": {},
   "source": [
    "# RPS Value"
   ]
  },
  {
   "cell_type": "code",
   "execution_count": 13,
   "metadata": {},
   "outputs": [
    {
     "name": "stdout",
     "output_type": "stream",
     "text": [
      "0.18858967265511145\n"
     ]
    }
   ],
   "source": [
    "prob_pred = rf_clf.predict_proba(x_test_B)\n",
    "\n",
    "def RPS(p, e, r):\n",
    "    m = dict(zip(np.unique(y_predicted), [0, 1, 2]))\n",
    "    n = len(p)\n",
    "    rps = []\n",
    "    for x in range(n):        \n",
    "        sum1=0\n",
    "        \n",
    "        for i in range(0, r):            \n",
    "            sum2=0\n",
    "            obs = [0]*r\n",
    "            obs[m[e[x]]] = 1\n",
    "            \n",
    "            for j in range(0, i):\n",
    "                sum2 += p[x][j]-obs[j]\n",
    "                \n",
    "            sum1 += sum2**2            \n",
    "        rps.append(sum1/(r-1))\n",
    "        \n",
    "    #print(rps)\n",
    "\n",
    "    print(np.mean(rps))\n",
    "RPS(prob_pred, y_test, 3)"
   ]
  },
  {
   "cell_type": "code",
   "execution_count": 14,
   "metadata": {},
   "outputs": [
    {
     "data": {
      "image/png": "[encoded data removed]",
      "text/plain": [
       "<Figure size 864x576 with 1 Axes>"
      ]
     },
     "metadata": {
      "needs_background": "light"
     },
     "output_type": "display_data"
    }
   ],
   "source": [
    "Actual=[]\n",
    "Home=Away=Draw=0\n",
    "for i in y_test:\n",
    "    if(i=='H'):\n",
    "        Home+=1;\n",
    "    elif(i=='A'):\n",
    "        Away+=1;\n",
    "    else:\n",
    "        Draw+=1;\n",
    "Actual.append(Home)\n",
    "Actual.append(Away)\n",
    "Actual.append(Draw)\n",
    "\n",
    "Predicted=[]\n",
    "PHome=PAway=PDraw=0\n",
    "for i in y_predicted:\n",
    "    if(i=='H'):\n",
    "        PHome+=1;\n",
    "    elif(i=='A'):\n",
    "        PAway+=1;\n",
    "    else:\n",
    "        PDraw+=1;\n",
    "Predicted.append(PHome)\n",
    "Predicted.append(PAway)\n",
    "Predicted.append(PDraw)\n",
    "\n",
    "# set width of bar \n",
    "barWidth = 0.25\n",
    "fig = plt.subplots(figsize =(12, 8)) \n",
    "\n",
    "# Set position of bar on X axis \n",
    "br1 = np.arange(3) \n",
    "br2 = [x + barWidth for x in br1] \n",
    "\n",
    "# Make the plot \n",
    "plt.bar(br1, Actual, color ='b', width = barWidth, \n",
    "        edgecolor ='grey', label ='Actual') \n",
    "plt.bar(br2, Predicted, color ='r', width = barWidth, \n",
    "        edgecolor ='grey', label ='Predicted') \n",
    "\n",
    "# Adding Xticks\n",
    "plt.xlabel('Random Forest Class B Features alone', fontweight ='bold') \n",
    "plt.ylabel('', fontweight ='bold') \n",
    "plt.xticks([r + barWidth/2 for r in range(len(Actual))], \n",
    "           ['Home Wins', 'Away Wins', 'Draw']) \n",
    "plt.legend(loc=\"upper right\")\n",
    "plt.show()"
   ]
  },
  {
   "cell_type": "code",
   "execution_count": null,
   "metadata": {},
   "outputs": [],
   "source": []
  }
 ],
 "metadata": {
  "kernelspec": {
   "display_name": "Python 3",
   "language": "python",
   "name": "python3"
  },
  "language_info": {
   "codemirror_mode": {
    "name": "ipython",
    "version": 3
   },
   "file_extension": ".py",
   "mimetype": "text/x-python",
   "name": "python",
   "nbconvert_exporter": "python",
   "pygments_lexer": "ipython3",
   "version": "3.7.4"
  }
 },
 "nbformat": 4,
 "nbformat_minor": 2
}
